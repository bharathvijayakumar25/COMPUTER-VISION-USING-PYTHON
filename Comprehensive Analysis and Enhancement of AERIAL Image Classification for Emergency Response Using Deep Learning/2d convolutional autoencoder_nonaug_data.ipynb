{
  "nbformat": 4,
  "nbformat_minor": 0,
  "metadata": {
    "colab": {
      "provenance": [],
      "gpuType": "T4"
    },
    "kernelspec": {
      "name": "python3",
      "display_name": "Python 3"
    },
    "language_info": {
      "name": "python"
    },
    "accelerator": "GPU"
  },
  "cells": [
    {
      "cell_type": "code",
      "source": [
        "import torch\n",
        "import torch.nn as nn\n",
        "import torch.optim as optim\n",
        "import torchvision.transforms as transforms\n",
        "from torch.utils.data import DataLoader, Dataset\n",
        "import torchvision.datasets as datasets\n",
        "import matplotlib.pyplot as plt\n",
        "import numpy as np\n"
      ],
      "metadata": {
        "id": "loNqsjxOsRmS"
      },
      "execution_count": 2,
      "outputs": []
    },
    {
      "cell_type": "code",
      "source": [
        "# Define image transformations\n",
        "transform = transforms.Compose([\n",
        "    transforms.Resize((128, 128)),  # Resize images to 128x128\n",
        "    transforms.ToTensor(),          # Convert image to tensor\n",
        "    transforms.Normalize((0.5,), (0.5,))  # Normalize pixel values\n",
        "])\n",
        "\n",
        "# Load dataset using ImageFolder\n",
        "train_dataset = datasets.ImageFolder(root='/content/AIDER-classification-3/train', transform=transform)\n",
        "valid_dataset = datasets.ImageFolder(root='/content/AIDER-classification-3/valid', transform=transform)\n",
        "test_dataset  = datasets.ImageFolder(root='/content/AIDER-classification-3/test', transform=transform)\n",
        "\n",
        "# Create data loaders\n",
        "train_loader = DataLoader(train_dataset, batch_size=32, shuffle=True)\n",
        "valid_loader = DataLoader(valid_dataset, batch_size=32, shuffle=False)\n",
        "test_loader  = DataLoader(test_dataset, batch_size=32, shuffle=False)\n",
        "\n",
        "# Check the class indices\n",
        "print(train_dataset.class_to_idx)  # {'normal': 0, 'abnormal': 1}\n"
      ],
      "metadata": {
        "colab": {
          "base_uri": "https://localhost:8080/"
        },
        "id": "hVZ4Y33MsSBa",
        "outputId": "e272773c-7858-46e2-e4ea-f6c095f19b97"
      },
      "execution_count": 3,
      "outputs": [
        {
          "output_type": "stream",
          "name": "stdout",
          "text": [
            "{'abnormal': 0, 'normal': 1}\n"
          ]
        }
      ]
    },
    {
      "cell_type": "code",
      "source": [
        "import torch\n",
        "import torch.nn as nn\n",
        "\n",
        "class ResidualBlock(nn.Module):\n",
        "    def __init__(self, in_channels, out_channels, kernel_size=3, stride=1, padding=1):\n",
        "        super(ResidualBlock, self).__init__()\n",
        "\n",
        "        # First convolution layer\n",
        "        self.conv1 = nn.Conv2d(in_channels, out_channels, kernel_size=kernel_size, stride=stride, padding=padding)\n",
        "        self.bn1 = nn.BatchNorm2d(out_channels)\n",
        "        self.relu = nn.LeakyReLU(0.2)\n",
        "\n",
        "        # Second convolution layer\n",
        "        self.conv2 = nn.Conv2d(out_channels, out_channels, kernel_size=kernel_size, stride=1, padding=padding)\n",
        "        self.bn2 = nn.BatchNorm2d(out_channels)\n",
        "\n",
        "        # If the dimensions don't match, we use a 1x1 convolution to match both channels and spatial dimensions\n",
        "        self.skip_connection = nn.Conv2d(in_channels, out_channels, kernel_size=1, stride=stride, padding=0) if in_channels != out_channels else nn.Identity()\n",
        "\n",
        "    def forward(self, x):\n",
        "        identity = self.skip_connection(x)  # Adjust identity dimensions if needed\n",
        "\n",
        "        out = self.conv1(x)\n",
        "        out = self.bn1(out)\n",
        "        out = self.relu(out)\n",
        "\n",
        "        out = self.conv2(out)\n",
        "        out = self.bn2(out)\n",
        "\n",
        "        out += identity  # Add the skip connection (residual connection)\n",
        "        out = self.relu(out)\n",
        "\n",
        "        return out\n",
        "\n",
        "\n",
        "class ConvAutoencoder(nn.Module):\n",
        "    def __init__(self):\n",
        "        super(ConvAutoencoder, self).__init__()\n",
        "\n",
        "        # Encoder with Residual Blocks\n",
        "        self.encoder = nn.Sequential(\n",
        "            ResidualBlock(3, 32, kernel_size=7, stride=2, padding=3),  # Output: (32, 64, 64)\n",
        "            ResidualBlock(32, 64, kernel_size=7, stride=2, padding=3), # Output: (64, 32, 32)\n",
        "            ResidualBlock(64, 128, kernel_size=7, stride=2, padding=3), # Output: (128, 16, 16)\n",
        "            ResidualBlock(128, 256, kernel_size=7, stride=2, padding=3), # Output: (256, 8, 8)\n",
        "        )\n",
        "\n",
        "        # Decoder with Residual Blocks\n",
        "        self.decoder = nn.Sequential(\n",
        "            nn.ConvTranspose2d(256, 128, kernel_size=7, stride=2, padding=3, output_padding=1),  # Output: (128, 16, 16)\n",
        "            nn.BatchNorm2d(128),\n",
        "            nn.LeakyReLU(0.2),\n",
        "\n",
        "            nn.ConvTranspose2d(128, 64, kernel_size=7, stride=2, padding=3, output_padding=1),  # Output: (64, 32, 32)\n",
        "            nn.BatchNorm2d(64),\n",
        "            nn.LeakyReLU(0.2),\n",
        "\n",
        "            nn.ConvTranspose2d(64, 32, kernel_size=7, stride=2, padding=3, output_padding=1),  # Output: (32, 64, 64)\n",
        "            nn.BatchNorm2d(32),\n",
        "            nn.LeakyReLU(0.2),\n",
        "\n",
        "            nn.ConvTranspose2d(32, 3, kernel_size=7, stride=2, padding=3, output_padding=1),  # Output: (3, 128, 128)\n",
        "            nn.Sigmoid()\n",
        "        )\n",
        "\n",
        "    def forward(self, x):\n",
        "        x = self.encoder(x)\n",
        "        x = self.decoder(x)\n",
        "        return x\n",
        "\n",
        "# Instantiate the model\n",
        "model = ConvAutoencoder()\n",
        "print(model)\n"
      ],
      "metadata": {
        "colab": {
          "base_uri": "https://localhost:8080/"
        },
        "id": "F5CBo6w7sTtq",
        "outputId": "5568d518-0404-4cc6-b498-374f9f1ec52c"
      },
      "execution_count": 4,
      "outputs": [
        {
          "output_type": "stream",
          "name": "stdout",
          "text": [
            "ConvAutoencoder(\n",
            "  (encoder): Sequential(\n",
            "    (0): ResidualBlock(\n",
            "      (conv1): Conv2d(3, 32, kernel_size=(7, 7), stride=(2, 2), padding=(3, 3))\n",
            "      (bn1): BatchNorm2d(32, eps=1e-05, momentum=0.1, affine=True, track_running_stats=True)\n",
            "      (relu): LeakyReLU(negative_slope=0.2)\n",
            "      (conv2): Conv2d(32, 32, kernel_size=(7, 7), stride=(1, 1), padding=(3, 3))\n",
            "      (bn2): BatchNorm2d(32, eps=1e-05, momentum=0.1, affine=True, track_running_stats=True)\n",
            "      (skip_connection): Conv2d(3, 32, kernel_size=(1, 1), stride=(2, 2))\n",
            "    )\n",
            "    (1): ResidualBlock(\n",
            "      (conv1): Conv2d(32, 64, kernel_size=(7, 7), stride=(2, 2), padding=(3, 3))\n",
            "      (bn1): BatchNorm2d(64, eps=1e-05, momentum=0.1, affine=True, track_running_stats=True)\n",
            "      (relu): LeakyReLU(negative_slope=0.2)\n",
            "      (conv2): Conv2d(64, 64, kernel_size=(7, 7), stride=(1, 1), padding=(3, 3))\n",
            "      (bn2): BatchNorm2d(64, eps=1e-05, momentum=0.1, affine=True, track_running_stats=True)\n",
            "      (skip_connection): Conv2d(32, 64, kernel_size=(1, 1), stride=(2, 2))\n",
            "    )\n",
            "    (2): ResidualBlock(\n",
            "      (conv1): Conv2d(64, 128, kernel_size=(7, 7), stride=(2, 2), padding=(3, 3))\n",
            "      (bn1): BatchNorm2d(128, eps=1e-05, momentum=0.1, affine=True, track_running_stats=True)\n",
            "      (relu): LeakyReLU(negative_slope=0.2)\n",
            "      (conv2): Conv2d(128, 128, kernel_size=(7, 7), stride=(1, 1), padding=(3, 3))\n",
            "      (bn2): BatchNorm2d(128, eps=1e-05, momentum=0.1, affine=True, track_running_stats=True)\n",
            "      (skip_connection): Conv2d(64, 128, kernel_size=(1, 1), stride=(2, 2))\n",
            "    )\n",
            "    (3): ResidualBlock(\n",
            "      (conv1): Conv2d(128, 256, kernel_size=(7, 7), stride=(2, 2), padding=(3, 3))\n",
            "      (bn1): BatchNorm2d(256, eps=1e-05, momentum=0.1, affine=True, track_running_stats=True)\n",
            "      (relu): LeakyReLU(negative_slope=0.2)\n",
            "      (conv2): Conv2d(256, 256, kernel_size=(7, 7), stride=(1, 1), padding=(3, 3))\n",
            "      (bn2): BatchNorm2d(256, eps=1e-05, momentum=0.1, affine=True, track_running_stats=True)\n",
            "      (skip_connection): Conv2d(128, 256, kernel_size=(1, 1), stride=(2, 2))\n",
            "    )\n",
            "  )\n",
            "  (decoder): Sequential(\n",
            "    (0): ConvTranspose2d(256, 128, kernel_size=(7, 7), stride=(2, 2), padding=(3, 3), output_padding=(1, 1))\n",
            "    (1): BatchNorm2d(128, eps=1e-05, momentum=0.1, affine=True, track_running_stats=True)\n",
            "    (2): LeakyReLU(negative_slope=0.2)\n",
            "    (3): ConvTranspose2d(128, 64, kernel_size=(7, 7), stride=(2, 2), padding=(3, 3), output_padding=(1, 1))\n",
            "    (4): BatchNorm2d(64, eps=1e-05, momentum=0.1, affine=True, track_running_stats=True)\n",
            "    (5): LeakyReLU(negative_slope=0.2)\n",
            "    (6): ConvTranspose2d(64, 32, kernel_size=(7, 7), stride=(2, 2), padding=(3, 3), output_padding=(1, 1))\n",
            "    (7): BatchNorm2d(32, eps=1e-05, momentum=0.1, affine=True, track_running_stats=True)\n",
            "    (8): LeakyReLU(negative_slope=0.2)\n",
            "    (9): ConvTranspose2d(32, 3, kernel_size=(7, 7), stride=(2, 2), padding=(3, 3), output_padding=(1, 1))\n",
            "    (10): Sigmoid()\n",
            "  )\n",
            ")\n"
          ]
        }
      ]
    },
    {
      "cell_type": "code",
      "source": [
        "criterion = nn.MSELoss()\n",
        "optimizer = optim.Adam(model.parameters(), lr=0.001)\n"
      ],
      "metadata": {
        "id": "IW2ePWnLsUy6"
      },
      "execution_count": 5,
      "outputs": []
    },
    {
      "cell_type": "code",
      "source": [
        "from tqdm import tqdm\n",
        "import torch\n",
        "\n",
        "def train_model(model, train_loader, valid_loader, criterion, optimizer, epochs=150, patience=10, device=\"cuda\" if torch.cuda.is_available() else \"cpu\"):\n",
        "    model.to(device)\n",
        "    best_valid_loss = float('inf')\n",
        "    patience_counter = 0\n",
        "\n",
        "    for epoch in range(epochs):\n",
        "        model.train()\n",
        "        train_loss = 0\n",
        "\n",
        "        train_bar = tqdm(train_loader, desc=f\"Epoch {epoch+1}/{epochs} [Training]\")\n",
        "        for images, _ in train_bar:  # We ignore labels\n",
        "            images = images.to(device)\n",
        "\n",
        "            # Forward pass\n",
        "            outputs = model(images)\n",
        "            loss = criterion(outputs, images)  # Reconstruction loss\n",
        "\n",
        "            # Backward pass\n",
        "            optimizer.zero_grad()\n",
        "            loss.backward()\n",
        "            optimizer.step()\n",
        "\n",
        "            train_loss += loss.item()\n",
        "            train_bar.set_postfix(loss=f\"{loss.item():.4f}\")\n",
        "\n",
        "        # Validation Loss Calculation\n",
        "        model.eval()\n",
        "        valid_loss = 0\n",
        "\n",
        "        valid_bar = tqdm(valid_loader, desc=f\"Epoch {epoch+1}/{epochs} [Validation]\")\n",
        "        with torch.no_grad():\n",
        "            for images, _ in valid_bar:\n",
        "                images = images.to(device)\n",
        "                outputs = model(images)\n",
        "                loss = criterion(outputs, images)\n",
        "                valid_loss += loss.item()\n",
        "                valid_bar.set_postfix(loss=f\"{loss.item():.4f}\")\n",
        "\n",
        "        avg_train_loss = train_loss / len(train_loader)\n",
        "        avg_valid_loss = valid_loss / len(valid_loader)\n",
        "        print(f\"Epoch [{epoch+1}/{epochs}], Train Loss: {avg_train_loss:.4f}, Valid Loss: {avg_valid_loss:.4f}\")\n",
        "\n",
        "        # Early Stopping Check\n",
        "        if avg_valid_loss < best_valid_loss:\n",
        "            best_valid_loss = avg_valid_loss\n",
        "            patience_counter = 0  # Reset counter if validation loss improves\n",
        "        else:\n",
        "            patience_counter += 1\n",
        "            if patience_counter >= patience:\n",
        "                print(\"Early stopping triggered.\")\n",
        "                break\n",
        "\n",
        "# Train the model\n",
        "train_model(model, train_loader, valid_loader, criterion, optimizer, epochs=300)"
      ],
      "metadata": {
        "colab": {
          "base_uri": "https://localhost:8080/"
        },
        "id": "k0Vr02oGsVoq",
        "outputId": "17a7eb07-3024-4d22-f4a7-806eba3fb532"
      },
      "execution_count": 6,
      "outputs": [
        {
          "output_type": "stream",
          "name": "stderr",
          "text": [
            "Epoch 1/300 [Training]: 100%|██████████| 121/121 [00:31<00:00,  3.79it/s, loss=0.1796]\n",
            "Epoch 1/300 [Validation]: 100%|██████████| 21/21 [00:04<00:00,  4.67it/s, loss=0.3137]\n"
          ]
        },
        {
          "output_type": "stream",
          "name": "stdout",
          "text": [
            "Epoch [1/300], Train Loss: 0.2344, Valid Loss: 0.1979\n"
          ]
        },
        {
          "output_type": "stream",
          "name": "stderr",
          "text": [
            "Epoch 2/300 [Training]: 100%|██████████| 121/121 [00:29<00:00,  4.07it/s, loss=0.1425]\n",
            "Epoch 2/300 [Validation]: 100%|██████████| 21/21 [00:04<00:00,  5.00it/s, loss=0.3032]\n"
          ]
        },
        {
          "output_type": "stream",
          "name": "stdout",
          "text": [
            "Epoch [2/300], Train Loss: 0.1937, Valid Loss: 0.1908\n"
          ]
        },
        {
          "output_type": "stream",
          "name": "stderr",
          "text": [
            "Epoch 3/300 [Training]: 100%|██████████| 121/121 [00:30<00:00,  3.97it/s, loss=0.1512]\n",
            "Epoch 3/300 [Validation]: 100%|██████████| 21/21 [00:03<00:00,  5.55it/s, loss=0.3013]\n"
          ]
        },
        {
          "output_type": "stream",
          "name": "stdout",
          "text": [
            "Epoch [3/300], Train Loss: 0.1882, Valid Loss: 0.1893\n"
          ]
        },
        {
          "output_type": "stream",
          "name": "stderr",
          "text": [
            "Epoch 4/300 [Training]: 100%|██████████| 121/121 [00:30<00:00,  3.93it/s, loss=0.2134]\n",
            "Epoch 4/300 [Validation]: 100%|██████████| 21/21 [00:03<00:00,  5.63it/s, loss=0.2972]\n"
          ]
        },
        {
          "output_type": "stream",
          "name": "stdout",
          "text": [
            "Epoch [4/300], Train Loss: 0.1870, Valid Loss: 0.1875\n"
          ]
        },
        {
          "output_type": "stream",
          "name": "stderr",
          "text": [
            "Epoch 5/300 [Training]: 100%|██████████| 121/121 [00:30<00:00,  3.96it/s, loss=0.1936]\n",
            "Epoch 5/300 [Validation]: 100%|██████████| 21/21 [00:03<00:00,  5.47it/s, loss=0.2953]\n"
          ]
        },
        {
          "output_type": "stream",
          "name": "stdout",
          "text": [
            "Epoch [5/300], Train Loss: 0.1859, Valid Loss: 0.1861\n"
          ]
        },
        {
          "output_type": "stream",
          "name": "stderr",
          "text": [
            "Epoch 6/300 [Training]: 100%|██████████| 121/121 [00:30<00:00,  3.97it/s, loss=0.1656]\n",
            "Epoch 6/300 [Validation]: 100%|██████████| 21/21 [00:04<00:00,  4.64it/s, loss=0.2957]\n"
          ]
        },
        {
          "output_type": "stream",
          "name": "stdout",
          "text": [
            "Epoch [6/300], Train Loss: 0.1848, Valid Loss: 0.1861\n"
          ]
        },
        {
          "output_type": "stream",
          "name": "stderr",
          "text": [
            "Epoch 7/300 [Training]: 100%|██████████| 121/121 [00:30<00:00,  4.01it/s, loss=0.1726]\n",
            "Epoch 7/300 [Validation]: 100%|██████████| 21/21 [00:04<00:00,  4.75it/s, loss=0.2937]\n"
          ]
        },
        {
          "output_type": "stream",
          "name": "stdout",
          "text": [
            "Epoch [7/300], Train Loss: 0.1840, Valid Loss: 0.1849\n"
          ]
        },
        {
          "output_type": "stream",
          "name": "stderr",
          "text": [
            "Epoch 8/300 [Training]: 100%|██████████| 121/121 [00:30<00:00,  4.02it/s, loss=0.1940]\n",
            "Epoch 8/300 [Validation]: 100%|██████████| 21/21 [00:03<00:00,  5.88it/s, loss=0.2951]\n"
          ]
        },
        {
          "output_type": "stream",
          "name": "stdout",
          "text": [
            "Epoch [8/300], Train Loss: 0.1839, Valid Loss: 0.1848\n"
          ]
        },
        {
          "output_type": "stream",
          "name": "stderr",
          "text": [
            "Epoch 9/300 [Training]: 100%|██████████| 121/121 [00:30<00:00,  3.97it/s, loss=0.1644]\n",
            "Epoch 9/300 [Validation]: 100%|██████████| 21/21 [00:03<00:00,  5.71it/s, loss=0.2934]\n"
          ]
        },
        {
          "output_type": "stream",
          "name": "stdout",
          "text": [
            "Epoch [9/300], Train Loss: 0.1833, Valid Loss: 0.1845\n"
          ]
        },
        {
          "output_type": "stream",
          "name": "stderr",
          "text": [
            "Epoch 10/300 [Training]: 100%|██████████| 121/121 [00:30<00:00,  3.97it/s, loss=0.2026]\n",
            "Epoch 10/300 [Validation]: 100%|██████████| 21/21 [00:03<00:00,  5.69it/s, loss=0.2931]\n"
          ]
        },
        {
          "output_type": "stream",
          "name": "stdout",
          "text": [
            "Epoch [10/300], Train Loss: 0.1831, Valid Loss: 0.1842\n"
          ]
        },
        {
          "output_type": "stream",
          "name": "stderr",
          "text": [
            "Epoch 11/300 [Training]: 100%|██████████| 121/121 [00:31<00:00,  3.90it/s, loss=0.1232]\n",
            "Epoch 11/300 [Validation]: 100%|██████████| 21/21 [00:03<00:00,  5.79it/s, loss=0.2923]\n"
          ]
        },
        {
          "output_type": "stream",
          "name": "stdout",
          "text": [
            "Epoch [11/300], Train Loss: 0.1818, Valid Loss: 0.1837\n"
          ]
        },
        {
          "output_type": "stream",
          "name": "stderr",
          "text": [
            "Epoch 12/300 [Training]: 100%|██████████| 121/121 [00:30<00:00,  4.01it/s, loss=0.1782]\n",
            "Epoch 12/300 [Validation]: 100%|██████████| 21/21 [00:04<00:00,  4.38it/s, loss=0.2921]\n"
          ]
        },
        {
          "output_type": "stream",
          "name": "stdout",
          "text": [
            "Epoch [12/300], Train Loss: 0.1819, Valid Loss: 0.1841\n"
          ]
        },
        {
          "output_type": "stream",
          "name": "stderr",
          "text": [
            "Epoch 13/300 [Training]: 100%|██████████| 121/121 [00:30<00:00,  3.92it/s, loss=0.2118]\n",
            "Epoch 13/300 [Validation]: 100%|██████████| 21/21 [00:04<00:00,  4.68it/s, loss=0.2924]\n"
          ]
        },
        {
          "output_type": "stream",
          "name": "stdout",
          "text": [
            "Epoch [13/300], Train Loss: 0.1817, Valid Loss: 0.1837\n"
          ]
        },
        {
          "output_type": "stream",
          "name": "stderr",
          "text": [
            "Epoch 14/300 [Training]: 100%|██████████| 121/121 [00:30<00:00,  3.99it/s, loss=0.1624]\n",
            "Epoch 14/300 [Validation]: 100%|██████████| 21/21 [00:03<00:00,  5.51it/s, loss=0.2918]\n"
          ]
        },
        {
          "output_type": "stream",
          "name": "stdout",
          "text": [
            "Epoch [14/300], Train Loss: 0.1813, Valid Loss: 0.1832\n"
          ]
        },
        {
          "output_type": "stream",
          "name": "stderr",
          "text": [
            "Epoch 15/300 [Training]: 100%|██████████| 121/121 [00:36<00:00,  3.32it/s, loss=0.2566]\n",
            "Epoch 15/300 [Validation]: 100%|██████████| 21/21 [00:04<00:00,  4.75it/s, loss=0.2908]\n"
          ]
        },
        {
          "output_type": "stream",
          "name": "stdout",
          "text": [
            "Epoch [15/300], Train Loss: 0.1811, Valid Loss: 0.1826\n"
          ]
        },
        {
          "output_type": "stream",
          "name": "stderr",
          "text": [
            "Epoch 16/300 [Training]: 100%|██████████| 121/121 [00:30<00:00,  3.97it/s, loss=0.1919]\n",
            "Epoch 16/300 [Validation]: 100%|██████████| 21/21 [00:04<00:00,  4.83it/s, loss=0.2902]\n"
          ]
        },
        {
          "output_type": "stream",
          "name": "stdout",
          "text": [
            "Epoch [16/300], Train Loss: 0.1806, Valid Loss: 0.1823\n"
          ]
        },
        {
          "output_type": "stream",
          "name": "stderr",
          "text": [
            "Epoch 17/300 [Training]: 100%|██████████| 121/121 [00:31<00:00,  3.89it/s, loss=0.1738]\n",
            "Epoch 17/300 [Validation]: 100%|██████████| 21/21 [00:04<00:00,  4.80it/s, loss=0.2902]\n"
          ]
        },
        {
          "output_type": "stream",
          "name": "stdout",
          "text": [
            "Epoch [17/300], Train Loss: 0.1804, Valid Loss: 0.1822\n"
          ]
        },
        {
          "output_type": "stream",
          "name": "stderr",
          "text": [
            "Epoch 18/300 [Training]: 100%|██████████| 121/121 [00:30<00:00,  3.93it/s, loss=0.1253]\n",
            "Epoch 18/300 [Validation]: 100%|██████████| 21/21 [00:03<00:00,  5.44it/s, loss=0.2900]\n"
          ]
        },
        {
          "output_type": "stream",
          "name": "stdout",
          "text": [
            "Epoch [18/300], Train Loss: 0.1800, Valid Loss: 0.1822\n"
          ]
        },
        {
          "output_type": "stream",
          "name": "stderr",
          "text": [
            "Epoch 19/300 [Training]: 100%|██████████| 121/121 [00:30<00:00,  3.94it/s, loss=0.2352]\n",
            "Epoch 19/300 [Validation]: 100%|██████████| 21/21 [00:03<00:00,  5.80it/s, loss=0.2898]\n"
          ]
        },
        {
          "output_type": "stream",
          "name": "stdout",
          "text": [
            "Epoch [19/300], Train Loss: 0.1799, Valid Loss: 0.1820\n"
          ]
        },
        {
          "output_type": "stream",
          "name": "stderr",
          "text": [
            "Epoch 20/300 [Training]: 100%|██████████| 121/121 [00:30<00:00,  3.94it/s, loss=0.1731]\n",
            "Epoch 20/300 [Validation]: 100%|██████████| 21/21 [00:03<00:00,  5.71it/s, loss=0.2897]\n"
          ]
        },
        {
          "output_type": "stream",
          "name": "stdout",
          "text": [
            "Epoch [20/300], Train Loss: 0.1797, Valid Loss: 0.1818\n"
          ]
        },
        {
          "output_type": "stream",
          "name": "stderr",
          "text": [
            "Epoch 21/300 [Training]: 100%|██████████| 121/121 [00:30<00:00,  3.94it/s, loss=0.1640]\n",
            "Epoch 21/300 [Validation]: 100%|██████████| 21/21 [00:03<00:00,  5.79it/s, loss=0.2891]\n"
          ]
        },
        {
          "output_type": "stream",
          "name": "stdout",
          "text": [
            "Epoch [21/300], Train Loss: 0.1795, Valid Loss: 0.1815\n"
          ]
        },
        {
          "output_type": "stream",
          "name": "stderr",
          "text": [
            "Epoch 22/300 [Training]: 100%|██████████| 121/121 [00:30<00:00,  4.00it/s, loss=0.1967]\n",
            "Epoch 22/300 [Validation]: 100%|██████████| 21/21 [00:04<00:00,  4.75it/s, loss=0.2901]\n"
          ]
        },
        {
          "output_type": "stream",
          "name": "stdout",
          "text": [
            "Epoch [22/300], Train Loss: 0.1794, Valid Loss: 0.1820\n"
          ]
        },
        {
          "output_type": "stream",
          "name": "stderr",
          "text": [
            "Epoch 23/300 [Training]: 100%|██████████| 121/121 [00:30<00:00,  4.02it/s, loss=0.2347]\n",
            "Epoch 23/300 [Validation]: 100%|██████████| 21/21 [00:04<00:00,  4.73it/s, loss=0.2887]\n"
          ]
        },
        {
          "output_type": "stream",
          "name": "stdout",
          "text": [
            "Epoch [23/300], Train Loss: 0.1794, Valid Loss: 0.1811\n"
          ]
        },
        {
          "output_type": "stream",
          "name": "stderr",
          "text": [
            "Epoch 24/300 [Training]: 100%|██████████| 121/121 [00:30<00:00,  4.00it/s, loss=0.1288]\n",
            "Epoch 24/300 [Validation]: 100%|██████████| 21/21 [00:03<00:00,  5.66it/s, loss=0.2886]\n"
          ]
        },
        {
          "output_type": "stream",
          "name": "stdout",
          "text": [
            "Epoch [24/300], Train Loss: 0.1787, Valid Loss: 0.1811\n"
          ]
        },
        {
          "output_type": "stream",
          "name": "stderr",
          "text": [
            "Epoch 25/300 [Training]: 100%|██████████| 121/121 [00:30<00:00,  3.95it/s, loss=0.2320]\n",
            "Epoch 25/300 [Validation]: 100%|██████████| 21/21 [00:03<00:00,  5.40it/s, loss=0.2885]\n"
          ]
        },
        {
          "output_type": "stream",
          "name": "stdout",
          "text": [
            "Epoch [25/300], Train Loss: 0.1792, Valid Loss: 0.1810\n"
          ]
        },
        {
          "output_type": "stream",
          "name": "stderr",
          "text": [
            "Epoch 26/300 [Training]: 100%|██████████| 121/121 [00:30<00:00,  3.93it/s, loss=0.1357]\n",
            "Epoch 26/300 [Validation]: 100%|██████████| 21/21 [00:03<00:00,  5.61it/s, loss=0.2885]\n"
          ]
        },
        {
          "output_type": "stream",
          "name": "stdout",
          "text": [
            "Epoch [26/300], Train Loss: 0.1785, Valid Loss: 0.1810\n"
          ]
        },
        {
          "output_type": "stream",
          "name": "stderr",
          "text": [
            "Epoch 27/300 [Training]: 100%|██████████| 121/121 [00:30<00:00,  3.96it/s, loss=0.2220]\n",
            "Epoch 27/300 [Validation]: 100%|██████████| 21/21 [00:03<00:00,  5.73it/s, loss=0.2884]\n"
          ]
        },
        {
          "output_type": "stream",
          "name": "stdout",
          "text": [
            "Epoch [27/300], Train Loss: 0.1787, Valid Loss: 0.1809\n"
          ]
        },
        {
          "output_type": "stream",
          "name": "stderr",
          "text": [
            "Epoch 28/300 [Training]: 100%|██████████| 121/121 [00:30<00:00,  4.02it/s, loss=0.1722]\n",
            "Epoch 28/300 [Validation]: 100%|██████████| 21/21 [00:04<00:00,  4.79it/s, loss=0.2884]\n"
          ]
        },
        {
          "output_type": "stream",
          "name": "stdout",
          "text": [
            "Epoch [28/300], Train Loss: 0.1784, Valid Loss: 0.1808\n"
          ]
        },
        {
          "output_type": "stream",
          "name": "stderr",
          "text": [
            "Epoch 29/300 [Training]: 100%|██████████| 121/121 [00:30<00:00,  4.03it/s, loss=0.2151]\n",
            "Epoch 29/300 [Validation]: 100%|██████████| 21/21 [00:04<00:00,  4.73it/s, loss=0.2896]\n"
          ]
        },
        {
          "output_type": "stream",
          "name": "stdout",
          "text": [
            "Epoch [29/300], Train Loss: 0.1785, Valid Loss: 0.1812\n"
          ]
        },
        {
          "output_type": "stream",
          "name": "stderr",
          "text": [
            "Epoch 30/300 [Training]: 100%|██████████| 121/121 [00:30<00:00,  4.01it/s, loss=0.1433]\n",
            "Epoch 30/300 [Validation]: 100%|██████████| 21/21 [00:04<00:00,  5.21it/s, loss=0.2881]\n"
          ]
        },
        {
          "output_type": "stream",
          "name": "stdout",
          "text": [
            "Epoch [30/300], Train Loss: 0.1784, Valid Loss: 0.1808\n"
          ]
        },
        {
          "output_type": "stream",
          "name": "stderr",
          "text": [
            "Epoch 31/300 [Training]: 100%|██████████| 121/121 [00:30<00:00,  4.00it/s, loss=0.1910]\n",
            "Epoch 31/300 [Validation]: 100%|██████████| 21/21 [00:03<00:00,  5.75it/s, loss=0.2888]\n"
          ]
        },
        {
          "output_type": "stream",
          "name": "stdout",
          "text": [
            "Epoch [31/300], Train Loss: 0.1786, Valid Loss: 0.1808\n"
          ]
        },
        {
          "output_type": "stream",
          "name": "stderr",
          "text": [
            "Epoch 32/300 [Training]: 100%|██████████| 121/121 [00:30<00:00,  3.92it/s, loss=0.1747]\n",
            "Epoch 32/300 [Validation]: 100%|██████████| 21/21 [00:03<00:00,  5.61it/s, loss=0.2892]\n"
          ]
        },
        {
          "output_type": "stream",
          "name": "stdout",
          "text": [
            "Epoch [32/300], Train Loss: 0.1782, Valid Loss: 0.1814\n"
          ]
        },
        {
          "output_type": "stream",
          "name": "stderr",
          "text": [
            "Epoch 33/300 [Training]: 100%|██████████| 121/121 [00:31<00:00,  3.87it/s, loss=0.1581]\n",
            "Epoch 33/300 [Validation]: 100%|██████████| 21/21 [00:03<00:00,  5.73it/s, loss=0.2882]\n"
          ]
        },
        {
          "output_type": "stream",
          "name": "stdout",
          "text": [
            "Epoch [33/300], Train Loss: 0.1782, Valid Loss: 0.1804\n"
          ]
        },
        {
          "output_type": "stream",
          "name": "stderr",
          "text": [
            "Epoch 34/300 [Training]: 100%|██████████| 121/121 [00:30<00:00,  3.95it/s, loss=0.2104]\n",
            "Epoch 34/300 [Validation]: 100%|██████████| 21/21 [00:03<00:00,  5.69it/s, loss=0.2883]\n"
          ]
        },
        {
          "output_type": "stream",
          "name": "stdout",
          "text": [
            "Epoch [34/300], Train Loss: 0.1782, Valid Loss: 0.1807\n"
          ]
        },
        {
          "output_type": "stream",
          "name": "stderr",
          "text": [
            "Epoch 35/300 [Training]: 100%|██████████| 121/121 [00:30<00:00,  3.99it/s, loss=0.1707]\n",
            "Epoch 35/300 [Validation]: 100%|██████████| 21/21 [00:04<00:00,  4.68it/s, loss=0.2884]\n"
          ]
        },
        {
          "output_type": "stream",
          "name": "stdout",
          "text": [
            "Epoch [35/300], Train Loss: 0.1781, Valid Loss: 0.1806\n"
          ]
        },
        {
          "output_type": "stream",
          "name": "stderr",
          "text": [
            "Epoch 36/300 [Training]: 100%|██████████| 121/121 [00:30<00:00,  4.03it/s, loss=0.1671]\n",
            "Epoch 36/300 [Validation]: 100%|██████████| 21/21 [00:04<00:00,  4.93it/s, loss=0.2879]\n"
          ]
        },
        {
          "output_type": "stream",
          "name": "stdout",
          "text": [
            "Epoch [36/300], Train Loss: 0.1780, Valid Loss: 0.1803\n"
          ]
        },
        {
          "output_type": "stream",
          "name": "stderr",
          "text": [
            "Epoch 37/300 [Training]: 100%|██████████| 121/121 [00:30<00:00,  4.03it/s, loss=0.1374]\n",
            "Epoch 37/300 [Validation]: 100%|██████████| 21/21 [00:03<00:00,  5.66it/s, loss=0.2876]\n"
          ]
        },
        {
          "output_type": "stream",
          "name": "stdout",
          "text": [
            "Epoch [37/300], Train Loss: 0.1778, Valid Loss: 0.1803\n"
          ]
        },
        {
          "output_type": "stream",
          "name": "stderr",
          "text": [
            "Epoch 38/300 [Training]: 100%|██████████| 121/121 [00:30<00:00,  3.93it/s, loss=0.1547]\n",
            "Epoch 38/300 [Validation]: 100%|██████████| 21/21 [00:03<00:00,  5.82it/s, loss=0.2885]\n"
          ]
        },
        {
          "output_type": "stream",
          "name": "stdout",
          "text": [
            "Epoch [38/300], Train Loss: 0.1778, Valid Loss: 0.1807\n"
          ]
        },
        {
          "output_type": "stream",
          "name": "stderr",
          "text": [
            "Epoch 39/300 [Training]: 100%|██████████| 121/121 [00:30<00:00,  3.93it/s, loss=0.1380]\n",
            "Epoch 39/300 [Validation]: 100%|██████████| 21/21 [00:03<00:00,  5.87it/s, loss=0.2881]\n"
          ]
        },
        {
          "output_type": "stream",
          "name": "stdout",
          "text": [
            "Epoch [39/300], Train Loss: 0.1777, Valid Loss: 0.1803\n"
          ]
        },
        {
          "output_type": "stream",
          "name": "stderr",
          "text": [
            "Epoch 40/300 [Training]: 100%|██████████| 121/121 [00:30<00:00,  3.94it/s, loss=0.1622]\n",
            "Epoch 40/300 [Validation]: 100%|██████████| 21/21 [00:03<00:00,  5.68it/s, loss=0.2882]\n"
          ]
        },
        {
          "output_type": "stream",
          "name": "stdout",
          "text": [
            "Epoch [40/300], Train Loss: 0.1777, Valid Loss: 0.1807\n"
          ]
        },
        {
          "output_type": "stream",
          "name": "stderr",
          "text": [
            "Epoch 41/300 [Training]: 100%|██████████| 121/121 [00:30<00:00,  3.95it/s, loss=0.1505]\n",
            "Epoch 41/300 [Validation]: 100%|██████████| 21/21 [00:04<00:00,  4.81it/s, loss=0.2877]\n"
          ]
        },
        {
          "output_type": "stream",
          "name": "stdout",
          "text": [
            "Epoch [41/300], Train Loss: 0.1777, Valid Loss: 0.1801\n"
          ]
        },
        {
          "output_type": "stream",
          "name": "stderr",
          "text": [
            "Epoch 42/300 [Training]: 100%|██████████| 121/121 [00:30<00:00,  4.03it/s, loss=0.1471]\n",
            "Epoch 42/300 [Validation]: 100%|██████████| 21/21 [00:03<00:00,  5.35it/s, loss=0.2876]\n"
          ]
        },
        {
          "output_type": "stream",
          "name": "stdout",
          "text": [
            "Epoch [42/300], Train Loss: 0.1776, Valid Loss: 0.1801\n"
          ]
        },
        {
          "output_type": "stream",
          "name": "stderr",
          "text": [
            "Epoch 43/300 [Training]: 100%|██████████| 121/121 [00:30<00:00,  4.01it/s, loss=0.1583]\n",
            "Epoch 43/300 [Validation]: 100%|██████████| 21/21 [00:03<00:00,  5.53it/s, loss=0.2876]\n"
          ]
        },
        {
          "output_type": "stream",
          "name": "stdout",
          "text": [
            "Epoch [43/300], Train Loss: 0.1777, Valid Loss: 0.1801\n"
          ]
        },
        {
          "output_type": "stream",
          "name": "stderr",
          "text": [
            "Epoch 44/300 [Training]: 100%|██████████| 121/121 [00:30<00:00,  3.94it/s, loss=0.1525]\n",
            "Epoch 44/300 [Validation]: 100%|██████████| 21/21 [00:03<00:00,  5.78it/s, loss=0.2877]\n"
          ]
        },
        {
          "output_type": "stream",
          "name": "stdout",
          "text": [
            "Epoch [44/300], Train Loss: 0.1775, Valid Loss: 0.1803\n"
          ]
        },
        {
          "output_type": "stream",
          "name": "stderr",
          "text": [
            "Epoch 45/300 [Training]: 100%|██████████| 121/121 [00:30<00:00,  3.96it/s, loss=0.1467]\n",
            "Epoch 45/300 [Validation]: 100%|██████████| 21/21 [00:03<00:00,  5.87it/s, loss=0.2882]\n"
          ]
        },
        {
          "output_type": "stream",
          "name": "stdout",
          "text": [
            "Epoch [45/300], Train Loss: 0.1775, Valid Loss: 0.1803\n"
          ]
        },
        {
          "output_type": "stream",
          "name": "stderr",
          "text": [
            "Epoch 46/300 [Training]: 100%|██████████| 121/121 [00:30<00:00,  4.00it/s, loss=0.1601]\n",
            "Epoch 46/300 [Validation]: 100%|██████████| 21/21 [00:04<00:00,  4.99it/s, loss=0.2873]\n"
          ]
        },
        {
          "output_type": "stream",
          "name": "stdout",
          "text": [
            "Epoch [46/300], Train Loss: 0.1774, Valid Loss: 0.1799\n"
          ]
        },
        {
          "output_type": "stream",
          "name": "stderr",
          "text": [
            "Epoch 47/300 [Training]: 100%|██████████| 121/121 [00:30<00:00,  4.02it/s, loss=0.2543]\n",
            "Epoch 47/300 [Validation]: 100%|██████████| 21/21 [00:04<00:00,  4.76it/s, loss=0.2878]\n"
          ]
        },
        {
          "output_type": "stream",
          "name": "stdout",
          "text": [
            "Epoch [47/300], Train Loss: 0.1778, Valid Loss: 0.1801\n"
          ]
        },
        {
          "output_type": "stream",
          "name": "stderr",
          "text": [
            "Epoch 48/300 [Training]: 100%|██████████| 121/121 [00:30<00:00,  3.96it/s, loss=0.2205]\n",
            "Epoch 48/300 [Validation]: 100%|██████████| 21/21 [00:04<00:00,  5.00it/s, loss=0.2874]\n"
          ]
        },
        {
          "output_type": "stream",
          "name": "stdout",
          "text": [
            "Epoch [48/300], Train Loss: 0.1775, Valid Loss: 0.1799\n"
          ]
        },
        {
          "output_type": "stream",
          "name": "stderr",
          "text": [
            "Epoch 49/300 [Training]: 100%|██████████| 121/121 [00:30<00:00,  3.98it/s, loss=0.1913]\n",
            "Epoch 49/300 [Validation]: 100%|██████████| 21/21 [00:03<00:00,  5.45it/s, loss=0.2877]\n"
          ]
        },
        {
          "output_type": "stream",
          "name": "stdout",
          "text": [
            "Epoch [49/300], Train Loss: 0.1777, Valid Loss: 0.1803\n"
          ]
        },
        {
          "output_type": "stream",
          "name": "stderr",
          "text": [
            "Epoch 50/300 [Training]: 100%|██████████| 121/121 [00:30<00:00,  3.94it/s, loss=0.2485]\n",
            "Epoch 50/300 [Validation]: 100%|██████████| 21/21 [00:03<00:00,  5.58it/s, loss=0.2878]\n"
          ]
        },
        {
          "output_type": "stream",
          "name": "stdout",
          "text": [
            "Epoch [50/300], Train Loss: 0.1778, Valid Loss: 0.1800\n"
          ]
        },
        {
          "output_type": "stream",
          "name": "stderr",
          "text": [
            "Epoch 51/300 [Training]: 100%|██████████| 121/121 [00:30<00:00,  3.94it/s, loss=0.1247]\n",
            "Epoch 51/300 [Validation]: 100%|██████████| 21/21 [00:03<00:00,  5.69it/s, loss=0.2879]\n"
          ]
        },
        {
          "output_type": "stream",
          "name": "stdout",
          "text": [
            "Epoch [51/300], Train Loss: 0.1774, Valid Loss: 0.1803\n"
          ]
        },
        {
          "output_type": "stream",
          "name": "stderr",
          "text": [
            "Epoch 52/300 [Training]: 100%|██████████| 121/121 [00:30<00:00,  3.94it/s, loss=0.1983]\n",
            "Epoch 52/300 [Validation]: 100%|██████████| 21/21 [00:03<00:00,  5.58it/s, loss=0.2876]\n"
          ]
        },
        {
          "output_type": "stream",
          "name": "stdout",
          "text": [
            "Epoch [52/300], Train Loss: 0.1776, Valid Loss: 0.1800\n"
          ]
        },
        {
          "output_type": "stream",
          "name": "stderr",
          "text": [
            "Epoch 53/300 [Training]: 100%|██████████| 121/121 [00:30<00:00,  4.01it/s, loss=0.2349]\n",
            "Epoch 53/300 [Validation]: 100%|██████████| 21/21 [00:04<00:00,  4.60it/s, loss=0.2901]\n"
          ]
        },
        {
          "output_type": "stream",
          "name": "stdout",
          "text": [
            "Epoch [53/300], Train Loss: 0.1777, Valid Loss: 0.1810\n"
          ]
        },
        {
          "output_type": "stream",
          "name": "stderr",
          "text": [
            "Epoch 54/300 [Training]: 100%|██████████| 121/121 [00:30<00:00,  3.98it/s, loss=0.1610]\n",
            "Epoch 54/300 [Validation]: 100%|██████████| 21/21 [00:04<00:00,  4.69it/s, loss=0.2872]\n"
          ]
        },
        {
          "output_type": "stream",
          "name": "stdout",
          "text": [
            "Epoch [54/300], Train Loss: 0.1772, Valid Loss: 0.1797\n"
          ]
        },
        {
          "output_type": "stream",
          "name": "stderr",
          "text": [
            "Epoch 55/300 [Training]: 100%|██████████| 121/121 [00:30<00:00,  4.01it/s, loss=0.2002]\n",
            "Epoch 55/300 [Validation]: 100%|██████████| 21/21 [00:03<00:00,  5.49it/s, loss=0.2876]\n"
          ]
        },
        {
          "output_type": "stream",
          "name": "stdout",
          "text": [
            "Epoch [55/300], Train Loss: 0.1774, Valid Loss: 0.1799\n"
          ]
        },
        {
          "output_type": "stream",
          "name": "stderr",
          "text": [
            "Epoch 56/300 [Training]: 100%|██████████| 121/121 [00:31<00:00,  3.90it/s, loss=0.2107]\n",
            "Epoch 56/300 [Validation]: 100%|██████████| 21/21 [00:03<00:00,  5.59it/s, loss=0.2871]\n"
          ]
        },
        {
          "output_type": "stream",
          "name": "stdout",
          "text": [
            "Epoch [56/300], Train Loss: 0.1772, Valid Loss: 0.1796\n"
          ]
        },
        {
          "output_type": "stream",
          "name": "stderr",
          "text": [
            "Epoch 57/300 [Training]: 100%|██████████| 121/121 [00:30<00:00,  3.97it/s, loss=0.1862]\n",
            "Epoch 57/300 [Validation]: 100%|██████████| 21/21 [00:03<00:00,  5.60it/s, loss=0.2870]\n"
          ]
        },
        {
          "output_type": "stream",
          "name": "stdout",
          "text": [
            "Epoch [57/300], Train Loss: 0.1771, Valid Loss: 0.1796\n"
          ]
        },
        {
          "output_type": "stream",
          "name": "stderr",
          "text": [
            "Epoch 58/300 [Training]: 100%|██████████| 121/121 [00:30<00:00,  3.94it/s, loss=0.1479]\n",
            "Epoch 58/300 [Validation]: 100%|██████████| 21/21 [00:03<00:00,  5.59it/s, loss=0.2869]\n"
          ]
        },
        {
          "output_type": "stream",
          "name": "stdout",
          "text": [
            "Epoch [58/300], Train Loss: 0.1771, Valid Loss: 0.1797\n"
          ]
        },
        {
          "output_type": "stream",
          "name": "stderr",
          "text": [
            "Epoch 59/300 [Training]: 100%|██████████| 121/121 [00:30<00:00,  3.98it/s, loss=0.1715]\n",
            "Epoch 59/300 [Validation]: 100%|██████████| 21/21 [00:03<00:00,  5.43it/s, loss=0.2869]\n"
          ]
        },
        {
          "output_type": "stream",
          "name": "stdout",
          "text": [
            "Epoch [59/300], Train Loss: 0.1770, Valid Loss: 0.1796\n"
          ]
        },
        {
          "output_type": "stream",
          "name": "stderr",
          "text": [
            "Epoch 60/300 [Training]: 100%|██████████| 121/121 [00:30<00:00,  4.01it/s, loss=0.3023]\n",
            "Epoch 60/300 [Validation]: 100%|██████████| 21/21 [00:04<00:00,  4.74it/s, loss=0.2885]\n"
          ]
        },
        {
          "output_type": "stream",
          "name": "stdout",
          "text": [
            "Epoch [60/300], Train Loss: 0.1775, Valid Loss: 0.1803\n"
          ]
        },
        {
          "output_type": "stream",
          "name": "stderr",
          "text": [
            "Epoch 61/300 [Training]: 100%|██████████| 121/121 [00:30<00:00,  4.00it/s, loss=0.1821]\n",
            "Epoch 61/300 [Validation]: 100%|██████████| 21/21 [00:04<00:00,  5.11it/s, loss=0.2869]\n"
          ]
        },
        {
          "output_type": "stream",
          "name": "stdout",
          "text": [
            "Epoch [61/300], Train Loss: 0.1772, Valid Loss: 0.1796\n"
          ]
        },
        {
          "output_type": "stream",
          "name": "stderr",
          "text": [
            "Epoch 62/300 [Training]: 100%|██████████| 121/121 [00:30<00:00,  4.00it/s, loss=0.1770]\n",
            "Epoch 62/300 [Validation]: 100%|██████████| 21/21 [00:03<00:00,  5.67it/s, loss=0.2870]\n"
          ]
        },
        {
          "output_type": "stream",
          "name": "stdout",
          "text": [
            "Epoch [62/300], Train Loss: 0.1770, Valid Loss: 0.1796\n"
          ]
        },
        {
          "output_type": "stream",
          "name": "stderr",
          "text": [
            "Epoch 63/300 [Training]: 100%|██████████| 121/121 [00:30<00:00,  3.95it/s, loss=0.1653]\n",
            "Epoch 63/300 [Validation]: 100%|██████████| 21/21 [00:03<00:00,  5.63it/s, loss=0.2869]\n"
          ]
        },
        {
          "output_type": "stream",
          "name": "stdout",
          "text": [
            "Epoch [63/300], Train Loss: 0.1769, Valid Loss: 0.1795\n"
          ]
        },
        {
          "output_type": "stream",
          "name": "stderr",
          "text": [
            "Epoch 64/300 [Training]: 100%|██████████| 121/121 [00:31<00:00,  3.87it/s, loss=0.2266]\n",
            "Epoch 64/300 [Validation]: 100%|██████████| 21/21 [00:03<00:00,  5.63it/s, loss=0.2869]\n"
          ]
        },
        {
          "output_type": "stream",
          "name": "stdout",
          "text": [
            "Epoch [64/300], Train Loss: 0.1772, Valid Loss: 0.1796\n"
          ]
        },
        {
          "output_type": "stream",
          "name": "stderr",
          "text": [
            "Epoch 65/300 [Training]: 100%|██████████| 121/121 [00:30<00:00,  3.98it/s, loss=0.1801]\n",
            "Epoch 65/300 [Validation]: 100%|██████████| 21/21 [00:04<00:00,  5.23it/s, loss=0.2873]\n"
          ]
        },
        {
          "output_type": "stream",
          "name": "stdout",
          "text": [
            "Epoch [65/300], Train Loss: 0.1769, Valid Loss: 0.1796\n"
          ]
        },
        {
          "output_type": "stream",
          "name": "stderr",
          "text": [
            "Epoch 66/300 [Training]: 100%|██████████| 121/121 [00:30<00:00,  4.03it/s, loss=0.1243]\n",
            "Epoch 66/300 [Validation]: 100%|██████████| 21/21 [00:04<00:00,  4.71it/s, loss=0.2879]\n"
          ]
        },
        {
          "output_type": "stream",
          "name": "stdout",
          "text": [
            "Epoch [66/300], Train Loss: 0.1768, Valid Loss: 0.1799\n"
          ]
        },
        {
          "output_type": "stream",
          "name": "stderr",
          "text": [
            "Epoch 67/300 [Training]: 100%|██████████| 121/121 [00:30<00:00,  4.01it/s, loss=0.1323]\n",
            "Epoch 67/300 [Validation]: 100%|██████████| 21/21 [00:04<00:00,  4.91it/s, loss=0.2870]\n"
          ]
        },
        {
          "output_type": "stream",
          "name": "stdout",
          "text": [
            "Epoch [67/300], Train Loss: 0.1767, Valid Loss: 0.1797\n"
          ]
        },
        {
          "output_type": "stream",
          "name": "stderr",
          "text": [
            "Epoch 68/300 [Training]: 100%|██████████| 121/121 [00:30<00:00,  3.98it/s, loss=0.2306]\n",
            "Epoch 68/300 [Validation]: 100%|██████████| 21/21 [00:03<00:00,  5.65it/s, loss=0.2872]\n"
          ]
        },
        {
          "output_type": "stream",
          "name": "stdout",
          "text": [
            "Epoch [68/300], Train Loss: 0.1773, Valid Loss: 0.1795\n"
          ]
        },
        {
          "output_type": "stream",
          "name": "stderr",
          "text": [
            "Epoch 69/300 [Training]: 100%|██████████| 121/121 [00:30<00:00,  3.94it/s, loss=0.2353]\n",
            "Epoch 69/300 [Validation]: 100%|██████████| 21/21 [00:03<00:00,  5.84it/s, loss=0.2867]\n"
          ]
        },
        {
          "output_type": "stream",
          "name": "stdout",
          "text": [
            "Epoch [69/300], Train Loss: 0.1771, Valid Loss: 0.1794\n"
          ]
        },
        {
          "output_type": "stream",
          "name": "stderr",
          "text": [
            "Epoch 70/300 [Training]: 100%|██████████| 121/121 [00:30<00:00,  3.95it/s, loss=0.1739]\n",
            "Epoch 70/300 [Validation]: 100%|██████████| 21/21 [00:03<00:00,  5.65it/s, loss=0.2875]\n"
          ]
        },
        {
          "output_type": "stream",
          "name": "stdout",
          "text": [
            "Epoch [70/300], Train Loss: 0.1768, Valid Loss: 0.1798\n"
          ]
        },
        {
          "output_type": "stream",
          "name": "stderr",
          "text": [
            "Epoch 71/300 [Training]: 100%|██████████| 121/121 [00:31<00:00,  3.84it/s, loss=0.2040]\n",
            "Epoch 71/300 [Validation]: 100%|██████████| 21/21 [00:03<00:00,  5.86it/s, loss=0.2871]\n"
          ]
        },
        {
          "output_type": "stream",
          "name": "stdout",
          "text": [
            "Epoch [71/300], Train Loss: 0.1768, Valid Loss: 0.1795\n"
          ]
        },
        {
          "output_type": "stream",
          "name": "stderr",
          "text": [
            "Epoch 72/300 [Training]: 100%|██████████| 121/121 [00:30<00:00,  4.00it/s, loss=0.1677]\n",
            "Epoch 72/300 [Validation]: 100%|██████████| 21/21 [00:04<00:00,  4.71it/s, loss=0.2871]\n"
          ]
        },
        {
          "output_type": "stream",
          "name": "stdout",
          "text": [
            "Epoch [72/300], Train Loss: 0.1769, Valid Loss: 0.1795\n"
          ]
        },
        {
          "output_type": "stream",
          "name": "stderr",
          "text": [
            "Epoch 73/300 [Training]: 100%|██████████| 121/121 [00:30<00:00,  4.00it/s, loss=0.1555]\n",
            "Epoch 73/300 [Validation]: 100%|██████████| 21/21 [00:04<00:00,  4.71it/s, loss=0.2866]\n"
          ]
        },
        {
          "output_type": "stream",
          "name": "stdout",
          "text": [
            "Epoch [73/300], Train Loss: 0.1767, Valid Loss: 0.1792\n"
          ]
        },
        {
          "output_type": "stream",
          "name": "stderr",
          "text": [
            "Epoch 74/300 [Training]: 100%|██████████| 121/121 [00:30<00:00,  3.99it/s, loss=0.1513]\n",
            "Epoch 74/300 [Validation]: 100%|██████████| 21/21 [00:03<00:00,  5.58it/s, loss=0.2867]\n"
          ]
        },
        {
          "output_type": "stream",
          "name": "stdout",
          "text": [
            "Epoch [74/300], Train Loss: 0.1765, Valid Loss: 0.1793\n"
          ]
        },
        {
          "output_type": "stream",
          "name": "stderr",
          "text": [
            "Epoch 75/300 [Training]: 100%|██████████| 121/121 [00:30<00:00,  3.92it/s, loss=0.1538]\n",
            "Epoch 75/300 [Validation]: 100%|██████████| 21/21 [00:03<00:00,  5.63it/s, loss=0.2864]\n"
          ]
        },
        {
          "output_type": "stream",
          "name": "stdout",
          "text": [
            "Epoch [75/300], Train Loss: 0.1765, Valid Loss: 0.1792\n"
          ]
        },
        {
          "output_type": "stream",
          "name": "stderr",
          "text": [
            "Epoch 76/300 [Training]: 100%|██████████| 121/121 [00:30<00:00,  3.92it/s, loss=0.1224]\n",
            "Epoch 76/300 [Validation]: 100%|██████████| 21/21 [00:03<00:00,  5.49it/s, loss=0.2865]\n"
          ]
        },
        {
          "output_type": "stream",
          "name": "stdout",
          "text": [
            "Epoch [76/300], Train Loss: 0.1764, Valid Loss: 0.1792\n"
          ]
        },
        {
          "output_type": "stream",
          "name": "stderr",
          "text": [
            "Epoch 77/300 [Training]: 100%|██████████| 121/121 [00:30<00:00,  3.93it/s, loss=0.1672]\n",
            "Epoch 77/300 [Validation]: 100%|██████████| 21/21 [00:03<00:00,  5.55it/s, loss=0.2864]\n"
          ]
        },
        {
          "output_type": "stream",
          "name": "stdout",
          "text": [
            "Epoch [77/300], Train Loss: 0.1766, Valid Loss: 0.1791\n"
          ]
        },
        {
          "output_type": "stream",
          "name": "stderr",
          "text": [
            "Epoch 78/300 [Training]: 100%|██████████| 121/121 [00:30<00:00,  3.98it/s, loss=0.2056]\n",
            "Epoch 78/300 [Validation]: 100%|██████████| 21/21 [00:04<00:00,  4.89it/s, loss=0.2867]\n"
          ]
        },
        {
          "output_type": "stream",
          "name": "stdout",
          "text": [
            "Epoch [78/300], Train Loss: 0.1767, Valid Loss: 0.1793\n"
          ]
        },
        {
          "output_type": "stream",
          "name": "stderr",
          "text": [
            "Epoch 79/300 [Training]: 100%|██████████| 121/121 [00:30<00:00,  3.93it/s, loss=0.1618]\n",
            "Epoch 79/300 [Validation]: 100%|██████████| 21/21 [00:04<00:00,  4.75it/s, loss=0.2865]\n"
          ]
        },
        {
          "output_type": "stream",
          "name": "stdout",
          "text": [
            "Epoch [79/300], Train Loss: 0.1764, Valid Loss: 0.1792\n"
          ]
        },
        {
          "output_type": "stream",
          "name": "stderr",
          "text": [
            "Epoch 80/300 [Training]: 100%|██████████| 121/121 [00:30<00:00,  4.02it/s, loss=0.2241]\n",
            "Epoch 80/300 [Validation]: 100%|██████████| 21/21 [00:04<00:00,  5.06it/s, loss=0.2867]\n"
          ]
        },
        {
          "output_type": "stream",
          "name": "stdout",
          "text": [
            "Epoch [80/300], Train Loss: 0.1766, Valid Loss: 0.1793\n"
          ]
        },
        {
          "output_type": "stream",
          "name": "stderr",
          "text": [
            "Epoch 81/300 [Training]: 100%|██████████| 121/121 [00:30<00:00,  3.98it/s, loss=0.2542]\n",
            "Epoch 81/300 [Validation]: 100%|██████████| 21/21 [00:03<00:00,  5.73it/s, loss=0.2864]\n"
          ]
        },
        {
          "output_type": "stream",
          "name": "stdout",
          "text": [
            "Epoch [81/300], Train Loss: 0.1767, Valid Loss: 0.1791\n"
          ]
        },
        {
          "output_type": "stream",
          "name": "stderr",
          "text": [
            "Epoch 82/300 [Training]: 100%|██████████| 121/121 [00:30<00:00,  3.95it/s, loss=0.2200]\n",
            "Epoch 82/300 [Validation]: 100%|██████████| 21/21 [00:03<00:00,  5.70it/s, loss=0.2878]\n"
          ]
        },
        {
          "output_type": "stream",
          "name": "stdout",
          "text": [
            "Epoch [82/300], Train Loss: 0.1766, Valid Loss: 0.1797\n"
          ]
        },
        {
          "output_type": "stream",
          "name": "stderr",
          "text": [
            "Epoch 83/300 [Training]: 100%|██████████| 121/121 [00:30<00:00,  3.93it/s, loss=0.1876]\n",
            "Epoch 83/300 [Validation]: 100%|██████████| 21/21 [00:03<00:00,  5.66it/s, loss=0.2863]\n"
          ]
        },
        {
          "output_type": "stream",
          "name": "stdout",
          "text": [
            "Epoch [83/300], Train Loss: 0.1765, Valid Loss: 0.1791\n"
          ]
        },
        {
          "output_type": "stream",
          "name": "stderr",
          "text": [
            "Epoch 84/300 [Training]: 100%|██████████| 121/121 [00:30<00:00,  3.98it/s, loss=0.1285]\n",
            "Epoch 84/300 [Validation]: 100%|██████████| 21/21 [00:03<00:00,  5.29it/s, loss=0.2863]\n"
          ]
        },
        {
          "output_type": "stream",
          "name": "stdout",
          "text": [
            "Epoch [84/300], Train Loss: 0.1762, Valid Loss: 0.1791\n"
          ]
        },
        {
          "output_type": "stream",
          "name": "stderr",
          "text": [
            "Epoch 85/300 [Training]: 100%|██████████| 121/121 [00:30<00:00,  4.00it/s, loss=0.1416]\n",
            "Epoch 85/300 [Validation]: 100%|██████████| 21/21 [00:04<00:00,  4.72it/s, loss=0.2862]\n"
          ]
        },
        {
          "output_type": "stream",
          "name": "stdout",
          "text": [
            "Epoch [85/300], Train Loss: 0.1764, Valid Loss: 0.1790\n"
          ]
        },
        {
          "output_type": "stream",
          "name": "stderr",
          "text": [
            "Epoch 86/300 [Training]: 100%|██████████| 121/121 [00:30<00:00,  4.02it/s, loss=0.1855]\n",
            "Epoch 86/300 [Validation]: 100%|██████████| 21/21 [00:04<00:00,  5.12it/s, loss=0.2862]\n"
          ]
        },
        {
          "output_type": "stream",
          "name": "stdout",
          "text": [
            "Epoch [86/300], Train Loss: 0.1764, Valid Loss: 0.1790\n"
          ]
        },
        {
          "output_type": "stream",
          "name": "stderr",
          "text": [
            "Epoch 87/300 [Training]: 100%|██████████| 121/121 [00:30<00:00,  3.91it/s, loss=0.1828]\n",
            "Epoch 87/300 [Validation]: 100%|██████████| 21/21 [00:03<00:00,  5.53it/s, loss=0.2882]\n"
          ]
        },
        {
          "output_type": "stream",
          "name": "stdout",
          "text": [
            "Epoch [87/300], Train Loss: 0.1764, Valid Loss: 0.1800\n"
          ]
        },
        {
          "output_type": "stream",
          "name": "stderr",
          "text": [
            "Epoch 88/300 [Training]: 100%|██████████| 121/121 [00:30<00:00,  3.93it/s, loss=0.2120]\n",
            "Epoch 88/300 [Validation]: 100%|██████████| 21/21 [00:03<00:00,  5.86it/s, loss=0.2865]\n"
          ]
        },
        {
          "output_type": "stream",
          "name": "stdout",
          "text": [
            "Epoch [88/300], Train Loss: 0.1765, Valid Loss: 0.1791\n"
          ]
        },
        {
          "output_type": "stream",
          "name": "stderr",
          "text": [
            "Epoch 89/300 [Training]: 100%|██████████| 121/121 [00:30<00:00,  3.92it/s, loss=0.1217]\n",
            "Epoch 89/300 [Validation]: 100%|██████████| 21/21 [00:03<00:00,  5.55it/s, loss=0.2864]\n"
          ]
        },
        {
          "output_type": "stream",
          "name": "stdout",
          "text": [
            "Epoch [89/300], Train Loss: 0.1764, Valid Loss: 0.1791\n"
          ]
        },
        {
          "output_type": "stream",
          "name": "stderr",
          "text": [
            "Epoch 90/300 [Training]: 100%|██████████| 121/121 [00:30<00:00,  3.93it/s, loss=0.2399]\n",
            "Epoch 90/300 [Validation]: 100%|██████████| 21/21 [00:03<00:00,  5.56it/s, loss=0.2863]\n"
          ]
        },
        {
          "output_type": "stream",
          "name": "stdout",
          "text": [
            "Epoch [90/300], Train Loss: 0.1765, Valid Loss: 0.1790\n"
          ]
        },
        {
          "output_type": "stream",
          "name": "stderr",
          "text": [
            "Epoch 91/300 [Training]: 100%|██████████| 121/121 [00:30<00:00,  3.98it/s, loss=0.1779]\n",
            "Epoch 91/300 [Validation]: 100%|██████████| 21/21 [00:04<00:00,  4.73it/s, loss=0.2864]\n"
          ]
        },
        {
          "output_type": "stream",
          "name": "stdout",
          "text": [
            "Epoch [91/300], Train Loss: 0.1763, Valid Loss: 0.1792\n"
          ]
        },
        {
          "output_type": "stream",
          "name": "stderr",
          "text": [
            "Epoch 92/300 [Training]: 100%|██████████| 121/121 [00:30<00:00,  3.98it/s, loss=0.2101]\n",
            "Epoch 92/300 [Validation]: 100%|██████████| 21/21 [00:04<00:00,  4.76it/s, loss=0.2863]\n"
          ]
        },
        {
          "output_type": "stream",
          "name": "stdout",
          "text": [
            "Epoch [92/300], Train Loss: 0.1764, Valid Loss: 0.1790\n"
          ]
        },
        {
          "output_type": "stream",
          "name": "stderr",
          "text": [
            "Epoch 93/300 [Training]: 100%|██████████| 121/121 [00:30<00:00,  3.99it/s, loss=0.1776]\n",
            "Epoch 93/300 [Validation]: 100%|██████████| 21/21 [00:03<00:00,  5.51it/s, loss=0.2863]\n"
          ]
        },
        {
          "output_type": "stream",
          "name": "stdout",
          "text": [
            "Epoch [93/300], Train Loss: 0.1762, Valid Loss: 0.1789\n"
          ]
        },
        {
          "output_type": "stream",
          "name": "stderr",
          "text": [
            "Epoch 94/300 [Training]: 100%|██████████| 121/121 [00:30<00:00,  3.93it/s, loss=0.1894]\n",
            "Epoch 94/300 [Validation]: 100%|██████████| 21/21 [00:03<00:00,  5.70it/s, loss=0.2873]\n"
          ]
        },
        {
          "output_type": "stream",
          "name": "stdout",
          "text": [
            "Epoch [94/300], Train Loss: 0.1763, Valid Loss: 0.1794\n"
          ]
        },
        {
          "output_type": "stream",
          "name": "stderr",
          "text": [
            "Epoch 95/300 [Training]: 100%|██████████| 121/121 [00:31<00:00,  3.86it/s, loss=0.1303]\n",
            "Epoch 95/300 [Validation]: 100%|██████████| 21/21 [00:03<00:00,  5.60it/s, loss=0.2862]\n"
          ]
        },
        {
          "output_type": "stream",
          "name": "stdout",
          "text": [
            "Epoch [95/300], Train Loss: 0.1761, Valid Loss: 0.1789\n"
          ]
        },
        {
          "output_type": "stream",
          "name": "stderr",
          "text": [
            "Epoch 96/300 [Training]: 100%|██████████| 121/121 [00:30<00:00,  3.93it/s, loss=0.2155]\n",
            "Epoch 96/300 [Validation]: 100%|██████████| 21/21 [00:03<00:00,  5.65it/s, loss=0.2868]\n"
          ]
        },
        {
          "output_type": "stream",
          "name": "stdout",
          "text": [
            "Epoch [96/300], Train Loss: 0.1763, Valid Loss: 0.1792\n"
          ]
        },
        {
          "output_type": "stream",
          "name": "stderr",
          "text": [
            "Epoch 97/300 [Training]: 100%|██████████| 121/121 [00:30<00:00,  3.95it/s, loss=0.1800]\n",
            "Epoch 97/300 [Validation]: 100%|██████████| 21/21 [00:04<00:00,  5.02it/s, loss=0.2860]\n"
          ]
        },
        {
          "output_type": "stream",
          "name": "stdout",
          "text": [
            "Epoch [97/300], Train Loss: 0.1761, Valid Loss: 0.1788\n"
          ]
        },
        {
          "output_type": "stream",
          "name": "stderr",
          "text": [
            "Epoch 98/300 [Training]: 100%|██████████| 121/121 [00:30<00:00,  3.98it/s, loss=0.1991]\n",
            "Epoch 98/300 [Validation]: 100%|██████████| 21/21 [00:04<00:00,  4.62it/s, loss=0.2861]\n"
          ]
        },
        {
          "output_type": "stream",
          "name": "stdout",
          "text": [
            "Epoch [98/300], Train Loss: 0.1762, Valid Loss: 0.1790\n"
          ]
        },
        {
          "output_type": "stream",
          "name": "stderr",
          "text": [
            "Epoch 99/300 [Training]: 100%|██████████| 121/121 [00:30<00:00,  4.00it/s, loss=0.1387]\n",
            "Epoch 99/300 [Validation]: 100%|██████████| 21/21 [00:04<00:00,  4.85it/s, loss=0.2861]\n"
          ]
        },
        {
          "output_type": "stream",
          "name": "stdout",
          "text": [
            "Epoch [99/300], Train Loss: 0.1761, Valid Loss: 0.1788\n"
          ]
        },
        {
          "output_type": "stream",
          "name": "stderr",
          "text": [
            "Epoch 100/300 [Training]: 100%|██████████| 121/121 [00:30<00:00,  4.00it/s, loss=0.1635]\n",
            "Epoch 100/300 [Validation]: 100%|██████████| 21/21 [00:03<00:00,  5.60it/s, loss=0.2864]\n"
          ]
        },
        {
          "output_type": "stream",
          "name": "stdout",
          "text": [
            "Epoch [100/300], Train Loss: 0.1760, Valid Loss: 0.1792\n"
          ]
        },
        {
          "output_type": "stream",
          "name": "stderr",
          "text": [
            "Epoch 101/300 [Training]: 100%|██████████| 121/121 [00:30<00:00,  3.96it/s, loss=0.1801]\n",
            "Epoch 101/300 [Validation]: 100%|██████████| 21/21 [00:03<00:00,  5.77it/s, loss=0.2862]\n"
          ]
        },
        {
          "output_type": "stream",
          "name": "stdout",
          "text": [
            "Epoch [101/300], Train Loss: 0.1761, Valid Loss: 0.1788\n"
          ]
        },
        {
          "output_type": "stream",
          "name": "stderr",
          "text": [
            "Epoch 102/300 [Training]: 100%|██████████| 121/121 [00:30<00:00,  3.92it/s, loss=0.1973]\n",
            "Epoch 102/300 [Validation]: 100%|██████████| 21/21 [00:03<00:00,  5.47it/s, loss=0.2863]\n"
          ]
        },
        {
          "output_type": "stream",
          "name": "stdout",
          "text": [
            "Epoch [102/300], Train Loss: 0.1762, Valid Loss: 0.1789\n"
          ]
        },
        {
          "output_type": "stream",
          "name": "stderr",
          "text": [
            "Epoch 103/300 [Training]: 100%|██████████| 121/121 [00:30<00:00,  3.91it/s, loss=0.1599]\n",
            "Epoch 103/300 [Validation]: 100%|██████████| 21/21 [00:03<00:00,  5.27it/s, loss=0.2863]\n"
          ]
        },
        {
          "output_type": "stream",
          "name": "stdout",
          "text": [
            "Epoch [103/300], Train Loss: 0.1760, Valid Loss: 0.1790\n"
          ]
        },
        {
          "output_type": "stream",
          "name": "stderr",
          "text": [
            "Epoch 104/300 [Training]: 100%|██████████| 121/121 [00:30<00:00,  4.01it/s, loss=0.1123]\n",
            "Epoch 104/300 [Validation]: 100%|██████████| 21/21 [00:04<00:00,  4.77it/s, loss=0.2862]\n"
          ]
        },
        {
          "output_type": "stream",
          "name": "stdout",
          "text": [
            "Epoch [104/300], Train Loss: 0.1758, Valid Loss: 0.1788\n"
          ]
        },
        {
          "output_type": "stream",
          "name": "stderr",
          "text": [
            "Epoch 105/300 [Training]: 100%|██████████| 121/121 [00:30<00:00,  4.01it/s, loss=0.1661]\n",
            "Epoch 105/300 [Validation]: 100%|██████████| 21/21 [00:04<00:00,  4.81it/s, loss=0.2861]\n"
          ]
        },
        {
          "output_type": "stream",
          "name": "stdout",
          "text": [
            "Epoch [105/300], Train Loss: 0.1760, Valid Loss: 0.1788\n"
          ]
        },
        {
          "output_type": "stream",
          "name": "stderr",
          "text": [
            "Epoch 106/300 [Training]: 100%|██████████| 121/121 [00:30<00:00,  3.99it/s, loss=0.2337]\n",
            "Epoch 106/300 [Validation]: 100%|██████████| 21/21 [00:03<00:00,  5.51it/s, loss=0.2860]\n"
          ]
        },
        {
          "output_type": "stream",
          "name": "stdout",
          "text": [
            "Epoch [106/300], Train Loss: 0.1761, Valid Loss: 0.1788\n"
          ]
        },
        {
          "output_type": "stream",
          "name": "stderr",
          "text": [
            "Epoch 107/300 [Training]: 100%|██████████| 121/121 [00:30<00:00,  3.92it/s, loss=0.1575]\n",
            "Epoch 107/300 [Validation]: 100%|██████████| 21/21 [00:03<00:00,  5.66it/s, loss=0.2861]\n"
          ]
        },
        {
          "output_type": "stream",
          "name": "stdout",
          "text": [
            "Epoch [107/300], Train Loss: 0.1760, Valid Loss: 0.1788\n"
          ]
        },
        {
          "output_type": "stream",
          "name": "stderr",
          "text": [
            "Epoch 108/300 [Training]: 100%|██████████| 121/121 [00:30<00:00,  3.91it/s, loss=0.1516]\n",
            "Epoch 108/300 [Validation]: 100%|██████████| 21/21 [00:03<00:00,  5.60it/s, loss=0.2861]\n"
          ]
        },
        {
          "output_type": "stream",
          "name": "stdout",
          "text": [
            "Epoch [108/300], Train Loss: 0.1760, Valid Loss: 0.1787\n"
          ]
        },
        {
          "output_type": "stream",
          "name": "stderr",
          "text": [
            "Epoch 109/300 [Training]: 100%|██████████| 121/121 [00:30<00:00,  3.92it/s, loss=0.1789]\n",
            "Epoch 109/300 [Validation]: 100%|██████████| 21/21 [00:03<00:00,  5.49it/s, loss=0.2862]\n"
          ]
        },
        {
          "output_type": "stream",
          "name": "stdout",
          "text": [
            "Epoch [109/300], Train Loss: 0.1759, Valid Loss: 0.1788\n"
          ]
        },
        {
          "output_type": "stream",
          "name": "stderr",
          "text": [
            "Epoch 110/300 [Training]: 100%|██████████| 121/121 [00:30<00:00,  3.99it/s, loss=0.2107]\n",
            "Epoch 110/300 [Validation]: 100%|██████████| 21/21 [00:04<00:00,  4.70it/s, loss=0.2861]\n"
          ]
        },
        {
          "output_type": "stream",
          "name": "stdout",
          "text": [
            "Epoch [110/300], Train Loss: 0.1760, Valid Loss: 0.1788\n"
          ]
        },
        {
          "output_type": "stream",
          "name": "stderr",
          "text": [
            "Epoch 111/300 [Training]: 100%|██████████| 121/121 [00:30<00:00,  4.00it/s, loss=0.1972]\n",
            "Epoch 111/300 [Validation]: 100%|██████████| 21/21 [00:04<00:00,  4.83it/s, loss=0.2860]\n"
          ]
        },
        {
          "output_type": "stream",
          "name": "stdout",
          "text": [
            "Epoch [111/300], Train Loss: 0.1760, Valid Loss: 0.1787\n"
          ]
        },
        {
          "output_type": "stream",
          "name": "stderr",
          "text": [
            "Epoch 112/300 [Training]: 100%|██████████| 121/121 [00:30<00:00,  4.00it/s, loss=0.1679]\n",
            "Epoch 112/300 [Validation]: 100%|██████████| 21/21 [00:03<00:00,  5.59it/s, loss=0.2860]\n"
          ]
        },
        {
          "output_type": "stream",
          "name": "stdout",
          "text": [
            "Epoch [112/300], Train Loss: 0.1758, Valid Loss: 0.1787\n"
          ]
        },
        {
          "output_type": "stream",
          "name": "stderr",
          "text": [
            "Epoch 113/300 [Training]: 100%|██████████| 121/121 [00:30<00:00,  3.94it/s, loss=0.1566]\n",
            "Epoch 113/300 [Validation]: 100%|██████████| 21/21 [00:03<00:00,  5.55it/s, loss=0.2860]\n"
          ]
        },
        {
          "output_type": "stream",
          "name": "stdout",
          "text": [
            "Epoch [113/300], Train Loss: 0.1760, Valid Loss: 0.1788\n"
          ]
        },
        {
          "output_type": "stream",
          "name": "stderr",
          "text": [
            "Epoch 114/300 [Training]: 100%|██████████| 121/121 [00:30<00:00,  3.92it/s, loss=0.1663]\n",
            "Epoch 114/300 [Validation]: 100%|██████████| 21/21 [00:03<00:00,  5.50it/s, loss=0.2860]\n"
          ]
        },
        {
          "output_type": "stream",
          "name": "stdout",
          "text": [
            "Epoch [114/300], Train Loss: 0.1760, Valid Loss: 0.1788\n"
          ]
        },
        {
          "output_type": "stream",
          "name": "stderr",
          "text": [
            "Epoch 115/300 [Training]: 100%|██████████| 121/121 [00:30<00:00,  3.94it/s, loss=0.1652]\n",
            "Epoch 115/300 [Validation]: 100%|██████████| 21/21 [00:03<00:00,  5.62it/s, loss=0.2861]\n"
          ]
        },
        {
          "output_type": "stream",
          "name": "stdout",
          "text": [
            "Epoch [115/300], Train Loss: 0.1759, Valid Loss: 0.1788\n"
          ]
        },
        {
          "output_type": "stream",
          "name": "stderr",
          "text": [
            "Epoch 116/300 [Training]: 100%|██████████| 121/121 [00:30<00:00,  3.94it/s, loss=0.1254]\n",
            "Epoch 116/300 [Validation]: 100%|██████████| 21/21 [00:04<00:00,  4.90it/s, loss=0.2865]\n"
          ]
        },
        {
          "output_type": "stream",
          "name": "stdout",
          "text": [
            "Epoch [116/300], Train Loss: 0.1758, Valid Loss: 0.1790\n"
          ]
        },
        {
          "output_type": "stream",
          "name": "stderr",
          "text": [
            "Epoch 117/300 [Training]: 100%|██████████| 121/121 [00:30<00:00,  3.98it/s, loss=0.2033]\n",
            "Epoch 117/300 [Validation]: 100%|██████████| 21/21 [00:04<00:00,  4.65it/s, loss=0.2860]\n"
          ]
        },
        {
          "output_type": "stream",
          "name": "stdout",
          "text": [
            "Epoch [117/300], Train Loss: 0.1759, Valid Loss: 0.1787\n"
          ]
        },
        {
          "output_type": "stream",
          "name": "stderr",
          "text": [
            "Epoch 118/300 [Training]: 100%|██████████| 121/121 [00:30<00:00,  3.97it/s, loss=0.1764]\n",
            "Epoch 118/300 [Validation]: 100%|██████████| 21/21 [00:04<00:00,  4.87it/s, loss=0.2861]\n"
          ]
        },
        {
          "output_type": "stream",
          "name": "stdout",
          "text": [
            "Epoch [118/300], Train Loss: 0.1758, Valid Loss: 0.1787\n"
          ]
        },
        {
          "output_type": "stream",
          "name": "stderr",
          "text": [
            "Epoch 119/300 [Training]: 100%|██████████| 121/121 [00:30<00:00,  3.95it/s, loss=0.1120]\n",
            "Epoch 119/300 [Validation]: 100%|██████████| 21/21 [00:03<00:00,  5.49it/s, loss=0.2862]\n"
          ]
        },
        {
          "output_type": "stream",
          "name": "stdout",
          "text": [
            "Epoch [119/300], Train Loss: 0.1756, Valid Loss: 0.1787\n"
          ]
        },
        {
          "output_type": "stream",
          "name": "stderr",
          "text": [
            "Epoch 120/300 [Training]: 100%|██████████| 121/121 [00:30<00:00,  3.91it/s, loss=0.2152]\n",
            "Epoch 120/300 [Validation]: 100%|██████████| 21/21 [00:03<00:00,  5.53it/s, loss=0.2858]\n"
          ]
        },
        {
          "output_type": "stream",
          "name": "stdout",
          "text": [
            "Epoch [120/300], Train Loss: 0.1760, Valid Loss: 0.1786\n"
          ]
        },
        {
          "output_type": "stream",
          "name": "stderr",
          "text": [
            "Epoch 121/300 [Training]: 100%|██████████| 121/121 [00:30<00:00,  3.91it/s, loss=0.1760]\n",
            "Epoch 121/300 [Validation]: 100%|██████████| 21/21 [00:03<00:00,  5.66it/s, loss=0.2863]\n"
          ]
        },
        {
          "output_type": "stream",
          "name": "stdout",
          "text": [
            "Epoch [121/300], Train Loss: 0.1758, Valid Loss: 0.1788\n"
          ]
        },
        {
          "output_type": "stream",
          "name": "stderr",
          "text": [
            "Epoch 122/300 [Training]: 100%|██████████| 121/121 [00:31<00:00,  3.90it/s, loss=0.1530]\n",
            "Epoch 122/300 [Validation]: 100%|██████████| 21/21 [00:03<00:00,  5.70it/s, loss=0.2859]\n"
          ]
        },
        {
          "output_type": "stream",
          "name": "stdout",
          "text": [
            "Epoch [122/300], Train Loss: 0.1757, Valid Loss: 0.1786\n"
          ]
        },
        {
          "output_type": "stream",
          "name": "stderr",
          "text": [
            "Epoch 123/300 [Training]: 100%|██████████| 121/121 [00:30<00:00,  3.98it/s, loss=0.2318]\n",
            "Epoch 123/300 [Validation]: 100%|██████████| 21/21 [00:04<00:00,  4.67it/s, loss=0.2876]\n"
          ]
        },
        {
          "output_type": "stream",
          "name": "stdout",
          "text": [
            "Epoch [123/300], Train Loss: 0.1760, Valid Loss: 0.1793\n"
          ]
        },
        {
          "output_type": "stream",
          "name": "stderr",
          "text": [
            "Epoch 124/300 [Training]: 100%|██████████| 121/121 [00:30<00:00,  3.97it/s, loss=0.1710]\n",
            "Epoch 124/300 [Validation]: 100%|██████████| 21/21 [00:04<00:00,  4.72it/s, loss=0.2859]\n"
          ]
        },
        {
          "output_type": "stream",
          "name": "stdout",
          "text": [
            "Epoch [124/300], Train Loss: 0.1757, Valid Loss: 0.1786\n"
          ]
        },
        {
          "output_type": "stream",
          "name": "stderr",
          "text": [
            "Epoch 125/300 [Training]: 100%|██████████| 121/121 [00:30<00:00,  3.95it/s, loss=0.1514]\n",
            "Epoch 125/300 [Validation]: 100%|██████████| 21/21 [00:04<00:00,  4.93it/s, loss=0.2862]\n"
          ]
        },
        {
          "output_type": "stream",
          "name": "stdout",
          "text": [
            "Epoch [125/300], Train Loss: 0.1756, Valid Loss: 0.1790\n"
          ]
        },
        {
          "output_type": "stream",
          "name": "stderr",
          "text": [
            "Epoch 126/300 [Training]: 100%|██████████| 121/121 [00:30<00:00,  3.98it/s, loss=0.1534]\n",
            "Epoch 126/300 [Validation]: 100%|██████████| 21/21 [00:03<00:00,  5.57it/s, loss=0.2858]\n"
          ]
        },
        {
          "output_type": "stream",
          "name": "stdout",
          "text": [
            "Epoch [126/300], Train Loss: 0.1758, Valid Loss: 0.1786\n"
          ]
        },
        {
          "output_type": "stream",
          "name": "stderr",
          "text": [
            "Epoch 127/300 [Training]: 100%|██████████| 121/121 [00:30<00:00,  3.92it/s, loss=0.1140]\n",
            "Epoch 127/300 [Validation]: 100%|██████████| 21/21 [00:03<00:00,  5.77it/s, loss=0.2861]\n"
          ]
        },
        {
          "output_type": "stream",
          "name": "stdout",
          "text": [
            "Epoch [127/300], Train Loss: 0.1755, Valid Loss: 0.1787\n"
          ]
        },
        {
          "output_type": "stream",
          "name": "stderr",
          "text": [
            "Epoch 128/300 [Training]: 100%|██████████| 121/121 [00:30<00:00,  3.93it/s, loss=0.2043]\n",
            "Epoch 128/300 [Validation]: 100%|██████████| 21/21 [00:03<00:00,  5.71it/s, loss=0.2860]\n"
          ]
        },
        {
          "output_type": "stream",
          "name": "stdout",
          "text": [
            "Epoch [128/300], Train Loss: 0.1758, Valid Loss: 0.1787\n"
          ]
        },
        {
          "output_type": "stream",
          "name": "stderr",
          "text": [
            "Epoch 129/300 [Training]: 100%|██████████| 121/121 [00:30<00:00,  3.93it/s, loss=0.1678]\n",
            "Epoch 129/300 [Validation]: 100%|██████████| 21/21 [00:03<00:00,  5.62it/s, loss=0.2862]\n"
          ]
        },
        {
          "output_type": "stream",
          "name": "stdout",
          "text": [
            "Epoch [129/300], Train Loss: 0.1757, Valid Loss: 0.1790\n"
          ]
        },
        {
          "output_type": "stream",
          "name": "stderr",
          "text": [
            "Epoch 130/300 [Training]: 100%|██████████| 121/121 [00:30<00:00,  3.99it/s, loss=0.2142]\n",
            "Epoch 130/300 [Validation]: 100%|██████████| 21/21 [00:04<00:00,  4.68it/s, loss=0.2864]\n"
          ]
        },
        {
          "output_type": "stream",
          "name": "stdout",
          "text": [
            "Epoch [130/300], Train Loss: 0.1759, Valid Loss: 0.1788\n"
          ]
        },
        {
          "output_type": "stream",
          "name": "stderr",
          "text": [
            "Epoch 131/300 [Training]: 100%|██████████| 121/121 [00:30<00:00,  3.97it/s, loss=0.1593]\n",
            "Epoch 131/300 [Validation]: 100%|██████████| 21/21 [00:04<00:00,  4.82it/s, loss=0.2858]\n"
          ]
        },
        {
          "output_type": "stream",
          "name": "stdout",
          "text": [
            "Epoch [131/300], Train Loss: 0.1756, Valid Loss: 0.1786\n"
          ]
        },
        {
          "output_type": "stream",
          "name": "stderr",
          "text": [
            "Epoch 132/300 [Training]: 100%|██████████| 121/121 [00:30<00:00,  3.98it/s, loss=0.1841]\n",
            "Epoch 132/300 [Validation]: 100%|██████████| 21/21 [00:03<00:00,  5.49it/s, loss=0.2859]"
          ]
        },
        {
          "output_type": "stream",
          "name": "stdout",
          "text": [
            "Epoch [132/300], Train Loss: 0.1757, Valid Loss: 0.1787\n",
            "Early stopping triggered.\n"
          ]
        },
        {
          "output_type": "stream",
          "name": "stderr",
          "text": [
            "\n"
          ]
        }
      ]
    },
    {
      "cell_type": "code",
      "source": [
        "class BinaryClassifier(nn.Module):\n",
        "    def __init__(self):\n",
        "        super(BinaryClassifier, self).__init__()\n",
        "        self.encoder = model.encoder  # Use pretrained encoder\n",
        "        self.fc = nn.Sequential(\n",
        "            nn.Linear(256 * 8 * 8, 128),\n",
        "            nn.ReLU(),\n",
        "            nn.Linear(128, 2)  # Output: 2 classes (Normal, Abnormal)\n",
        "        )\n",
        "\n",
        "    def forward(self, x):\n",
        "        x = self.encoder(x)\n",
        "        x = torch.flatten(x, start_dim=1)\n",
        "        x = self.fc(x)\n",
        "        return x\n",
        "\n",
        "# Instantiate and Train Classifier\n",
        "classifier = BinaryClassifier()\n",
        "classifier.to(\"cuda\" if torch.cuda.is_available() else \"cpu\")\n"
      ],
      "metadata": {
        "id": "hKrcuqCnsWh6",
        "colab": {
          "base_uri": "https://localhost:8080/"
        },
        "outputId": "0c5a163e-c1fc-4011-8ea1-e50c3ef4e39c"
      },
      "execution_count": 7,
      "outputs": [
        {
          "output_type": "execute_result",
          "data": {
            "text/plain": [
              "BinaryClassifier(\n",
              "  (encoder): Sequential(\n",
              "    (0): ResidualBlock(\n",
              "      (conv1): Conv2d(3, 32, kernel_size=(7, 7), stride=(2, 2), padding=(3, 3))\n",
              "      (bn1): BatchNorm2d(32, eps=1e-05, momentum=0.1, affine=True, track_running_stats=True)\n",
              "      (relu): LeakyReLU(negative_slope=0.2)\n",
              "      (conv2): Conv2d(32, 32, kernel_size=(7, 7), stride=(1, 1), padding=(3, 3))\n",
              "      (bn2): BatchNorm2d(32, eps=1e-05, momentum=0.1, affine=True, track_running_stats=True)\n",
              "      (skip_connection): Conv2d(3, 32, kernel_size=(1, 1), stride=(2, 2))\n",
              "    )\n",
              "    (1): ResidualBlock(\n",
              "      (conv1): Conv2d(32, 64, kernel_size=(7, 7), stride=(2, 2), padding=(3, 3))\n",
              "      (bn1): BatchNorm2d(64, eps=1e-05, momentum=0.1, affine=True, track_running_stats=True)\n",
              "      (relu): LeakyReLU(negative_slope=0.2)\n",
              "      (conv2): Conv2d(64, 64, kernel_size=(7, 7), stride=(1, 1), padding=(3, 3))\n",
              "      (bn2): BatchNorm2d(64, eps=1e-05, momentum=0.1, affine=True, track_running_stats=True)\n",
              "      (skip_connection): Conv2d(32, 64, kernel_size=(1, 1), stride=(2, 2))\n",
              "    )\n",
              "    (2): ResidualBlock(\n",
              "      (conv1): Conv2d(64, 128, kernel_size=(7, 7), stride=(2, 2), padding=(3, 3))\n",
              "      (bn1): BatchNorm2d(128, eps=1e-05, momentum=0.1, affine=True, track_running_stats=True)\n",
              "      (relu): LeakyReLU(negative_slope=0.2)\n",
              "      (conv2): Conv2d(128, 128, kernel_size=(7, 7), stride=(1, 1), padding=(3, 3))\n",
              "      (bn2): BatchNorm2d(128, eps=1e-05, momentum=0.1, affine=True, track_running_stats=True)\n",
              "      (skip_connection): Conv2d(64, 128, kernel_size=(1, 1), stride=(2, 2))\n",
              "    )\n",
              "    (3): ResidualBlock(\n",
              "      (conv1): Conv2d(128, 256, kernel_size=(7, 7), stride=(2, 2), padding=(3, 3))\n",
              "      (bn1): BatchNorm2d(256, eps=1e-05, momentum=0.1, affine=True, track_running_stats=True)\n",
              "      (relu): LeakyReLU(negative_slope=0.2)\n",
              "      (conv2): Conv2d(256, 256, kernel_size=(7, 7), stride=(1, 1), padding=(3, 3))\n",
              "      (bn2): BatchNorm2d(256, eps=1e-05, momentum=0.1, affine=True, track_running_stats=True)\n",
              "      (skip_connection): Conv2d(128, 256, kernel_size=(1, 1), stride=(2, 2))\n",
              "    )\n",
              "  )\n",
              "  (fc): Sequential(\n",
              "    (0): Linear(in_features=16384, out_features=128, bias=True)\n",
              "    (1): ReLU()\n",
              "    (2): Linear(in_features=128, out_features=2, bias=True)\n",
              "  )\n",
              ")"
            ]
          },
          "metadata": {},
          "execution_count": 7
        }
      ]
    },
    {
      "cell_type": "code",
      "source": [
        "import torch\n",
        "import seaborn as sns\n",
        "import matplotlib.pyplot as plt\n",
        "from sklearn.metrics import confusion_matrix\n",
        "\n",
        "def evaluate_model(model, test_loader):\n",
        "    model.eval()\n",
        "    correct, total = 0, 0\n",
        "    all_preds, all_labels = [], []\n",
        "\n",
        "    with torch.no_grad():\n",
        "        for images, labels in test_loader:\n",
        "            images, labels = images.to(\"cuda\"), labels.to(\"cuda\")\n",
        "            outputs = model(images)\n",
        "            _, predicted = torch.max(outputs, 1)\n",
        "\n",
        "            total += labels.size(0)\n",
        "            correct += (predicted == labels).sum().item()\n",
        "\n",
        "            all_preds.extend(predicted.cpu().numpy())\n",
        "            all_labels.extend(labels.cpu().numpy())\n",
        "\n",
        "    accuracy = 100 * correct / total\n",
        "    print(f\"Test Accuracy: {accuracy:.2f}%\")\n",
        "\n",
        "    # Compute confusion matrix\n",
        "    cm = confusion_matrix(all_labels, all_preds)\n",
        "\n",
        "    # Plot confusion matrix\n",
        "    plt.figure(figsize=(8, 6))\n",
        "    sns.heatmap(cm, annot=True, fmt='d', cmap='Blues', xticklabels=True, yticklabels=True)\n",
        "    plt.xlabel('Predicted Label')\n",
        "    plt.ylabel('True Label')\n",
        "    plt.title('Confusion Matrix')\n",
        "    plt.show()\n",
        "\n",
        "evaluate_model(classifier, test_loader)\n"
      ],
      "metadata": {
        "id": "dtu2JbYfsX5C",
        "colab": {
          "base_uri": "https://localhost:8080/",
          "height": 581
        },
        "outputId": "1d369427-8439-4658-8808-514bafb878ca"
      },
      "execution_count": 8,
      "outputs": [
        {
          "output_type": "stream",
          "name": "stdout",
          "text": [
            "Test Accuracy: 62.05%\n"
          ]
        },
        {
          "output_type": "display_data",
          "data": {
            "text/plain": [
              "<Figure size 800x600 with 2 Axes>"
            ],
            "image/png": "[encoded data removed]"
          },
          "metadata": {}
        }
      ]
    },
    {
      "cell_type": "code",
      "source": [
        "torch.save(model.state_dict(), \"autoencoder.pth\")\n",
        "torch.save(classifier.state_dict(), \"classifier.pth\")"
      ],
      "metadata": {
        "id": "jMiHMpyZsY5q"
      },
      "execution_count": 9,
      "outputs": []
    }
  ]
}