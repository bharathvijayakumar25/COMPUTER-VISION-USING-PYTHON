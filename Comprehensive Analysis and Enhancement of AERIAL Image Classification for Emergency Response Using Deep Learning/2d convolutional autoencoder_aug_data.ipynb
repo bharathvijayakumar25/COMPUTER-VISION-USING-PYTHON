{
  "nbformat": 4,
  "nbformat_minor": 0,
  "metadata": {
    "colab": {
      "provenance": [],
      "gpuType": "T4"
    },
    "kernelspec": {
      "name": "python3",
      "display_name": "Python 3"
    },
    "language_info": {
      "name": "python"
    },
    "accelerator": "GPU"
  },
  "cells": [
    {
      "cell_type": "code",
      "execution_count": 5,
      "metadata": {
        "id": "40PUtS2RmgBF",
        "colab": {
          "base_uri": "https://localhost:8080/"
        },
        "outputId": "879b8f58-f8f8-4a72-d8f1-71abaa44e052"
      },
      "outputs": [
        {
          "output_type": "stream",
          "name": "stdout",
          "text": [
            "Requirement already satisfied: roboflow in /usr/local/lib/python3.11/dist-packages (1.1.58)\n",
            "Requirement already satisfied: certifi in /usr/local/lib/python3.11/dist-packages (from roboflow) (2025.1.31)\n",
            "Requirement already satisfied: idna==3.7 in /usr/local/lib/python3.11/dist-packages (from roboflow) (3.7)\n",
            "Requirement already satisfied: cycler in /usr/local/lib/python3.11/dist-packages (from roboflow) (0.12.1)\n",
            "Requirement already satisfied: kiwisolver>=1.3.1 in /usr/local/lib/python3.11/dist-packages (from roboflow) (1.4.8)\n",
            "Requirement already satisfied: matplotlib in /usr/local/lib/python3.11/dist-packages (from roboflow) (3.10.0)\n",
            "Requirement already satisfied: numpy>=1.18.5 in /usr/local/lib/python3.11/dist-packages (from roboflow) (2.0.2)\n",
            "Requirement already satisfied: opencv-python-headless==4.10.0.84 in /usr/local/lib/python3.11/dist-packages (from roboflow) (4.10.0.84)\n",
            "Requirement already satisfied: Pillow>=7.1.2 in /usr/local/lib/python3.11/dist-packages (from roboflow) (11.1.0)\n",
            "Requirement already satisfied: pillow-heif>=0.18.0 in /usr/local/lib/python3.11/dist-packages (from roboflow) (0.22.0)\n",
            "Requirement already satisfied: python-dateutil in /usr/local/lib/python3.11/dist-packages (from roboflow) (2.8.2)\n",
            "Requirement already satisfied: python-dotenv in /usr/local/lib/python3.11/dist-packages (from roboflow) (1.1.0)\n",
            "Requirement already satisfied: requests in /usr/local/lib/python3.11/dist-packages (from roboflow) (2.32.3)\n",
            "Requirement already satisfied: six in /usr/local/lib/python3.11/dist-packages (from roboflow) (1.17.0)\n",
            "Requirement already satisfied: urllib3>=1.26.6 in /usr/local/lib/python3.11/dist-packages (from roboflow) (2.3.0)\n",
            "Requirement already satisfied: tqdm>=4.41.0 in /usr/local/lib/python3.11/dist-packages (from roboflow) (4.67.1)\n",
            "Requirement already satisfied: PyYAML>=5.3.1 in /usr/local/lib/python3.11/dist-packages (from roboflow) (6.0.2)\n",
            "Requirement already satisfied: requests-toolbelt in /usr/local/lib/python3.11/dist-packages (from roboflow) (1.0.0)\n",
            "Requirement already satisfied: filetype in /usr/local/lib/python3.11/dist-packages (from roboflow) (1.2.0)\n",
            "Requirement already satisfied: contourpy>=1.0.1 in /usr/local/lib/python3.11/dist-packages (from matplotlib->roboflow) (1.3.1)\n",
            "Requirement already satisfied: fonttools>=4.22.0 in /usr/local/lib/python3.11/dist-packages (from matplotlib->roboflow) (4.56.0)\n",
            "Requirement already satisfied: packaging>=20.0 in /usr/local/lib/python3.11/dist-packages (from matplotlib->roboflow) (24.2)\n",
            "Requirement already satisfied: pyparsing>=2.3.1 in /usr/local/lib/python3.11/dist-packages (from matplotlib->roboflow) (3.2.3)\n",
            "Requirement already satisfied: charset-normalizer<4,>=2 in /usr/local/lib/python3.11/dist-packages (from requests->roboflow) (3.4.1)\n",
            "loading Roboflow workspace...\n",
            "loading Roboflow project...\n"
          ]
        },
        {
          "output_type": "stream",
          "name": "stderr",
          "text": [
            "Downloading Dataset Version Zip in AIDER-classification-1 to folder:: 100%|██████████| 782760/782760 [00:14<00:00, 55096.37it/s]"
          ]
        },
        {
          "output_type": "stream",
          "name": "stdout",
          "text": [
            "\n"
          ]
        },
        {
          "output_type": "stream",
          "name": "stderr",
          "text": [
            "\n",
            "Extracting Dataset Version Zip to AIDER-classification-1 in folder:: 100%|██████████| 14158/14158 [00:04<00:00, 3053.64it/s]\n"
          ]
        }
      ],
      "source": [
        "!pip install roboflow\n",
        "\n",
        "from roboflow import Roboflow\n",
        "rf = Roboflow(api_key=\"vkW6apoEqGBbbve0PcD5\")\n",
        "project = rf.workspace(\"budrot-detection\").project(\"aider-classification\")\n",
        "version = project.version(1)\n",
        "dataset = version.download(\"folder\")\n",
        ""
      ]
    },
    {
      "cell_type": "code",
      "source": [
        "import torch\n",
        "import torch.nn as nn\n",
        "import torch.optim as optim\n",
        "import torchvision.transforms as transforms\n",
        "from torch.utils.data import DataLoader, Dataset\n",
        "import torchvision.datasets as datasets\n",
        "import matplotlib.pyplot as plt\n",
        "import numpy as np\n"
      ],
      "metadata": {
        "id": "rXhVSnnomgmD"
      },
      "execution_count": 2,
      "outputs": []
    },
    {
      "cell_type": "code",
      "source": [
        "# Define image transformations\n",
        "transform = transforms.Compose([\n",
        "    transforms.Resize((128, 128)),  # Resize images to 128x128\n",
        "    transforms.ToTensor(),          # Convert image to tensor\n",
        "    transforms.Normalize((0.5,), (0.5,))  # Normalize pixel values\n",
        "])\n",
        "\n",
        "# Load dataset using ImageFolder\n",
        "train_dataset = datasets.ImageFolder(root='/content/AIDER-classification-1/train', transform=transform)\n",
        "valid_dataset = datasets.ImageFolder(root='/content/AIDER-classification-1/valid', transform=transform)\n",
        "test_dataset  = datasets.ImageFolder(root='/content/AIDER-classification-1/test', transform=transform)\n",
        "\n",
        "# Create data loaders\n",
        "train_loader = DataLoader(train_dataset, batch_size=32, shuffle=True)\n",
        "valid_loader = DataLoader(valid_dataset, batch_size=32, shuffle=False)\n",
        "test_loader  = DataLoader(test_dataset, batch_size=32, shuffle=False)\n",
        "\n",
        "# Check the class indices\n",
        "print(train_dataset.class_to_idx)  # {'normal': 0, 'abnormal': 1}\n"
      ],
      "metadata": {
        "colab": {
          "base_uri": "https://localhost:8080/"
        },
        "id": "HzsInE4qoorW",
        "outputId": "760d9376-32aa-4987-f6a2-3190581d78b7"
      },
      "execution_count": 6,
      "outputs": [
        {
          "output_type": "stream",
          "name": "stdout",
          "text": [
            "{'abnormal': 0, 'normal': 1}\n"
          ]
        }
      ]
    },
    {
      "cell_type": "code",
      "source": [
        "import torch\n",
        "import torch.nn as nn\n",
        "\n",
        "class ResidualBlock(nn.Module):\n",
        "    def __init__(self, in_channels, out_channels, kernel_size=3, stride=1, padding=1):\n",
        "        super(ResidualBlock, self).__init__()\n",
        "\n",
        "        # First convolution layer\n",
        "        self.conv1 = nn.Conv2d(in_channels, out_channels, kernel_size=kernel_size, stride=stride, padding=padding)\n",
        "        self.bn1 = nn.BatchNorm2d(out_channels)\n",
        "        self.relu = nn.LeakyReLU(0.2)\n",
        "\n",
        "        # Second convolution layer\n",
        "        self.conv2 = nn.Conv2d(out_channels, out_channels, kernel_size=kernel_size, stride=1, padding=padding)\n",
        "        self.bn2 = nn.BatchNorm2d(out_channels)\n",
        "\n",
        "        # If the dimensions don't match, we use a 1x1 convolution to match both channels and spatial dimensions\n",
        "        self.skip_connection = nn.Conv2d(in_channels, out_channels, kernel_size=1, stride=stride, padding=0) if in_channels != out_channels else nn.Identity()\n",
        "\n",
        "    def forward(self, x):\n",
        "        identity = self.skip_connection(x)  # Adjust identity dimensions if needed\n",
        "\n",
        "        out = self.conv1(x)\n",
        "        out = self.bn1(out)\n",
        "        out = self.relu(out)\n",
        "\n",
        "        out = self.conv2(out)\n",
        "        out = self.bn2(out)\n",
        "\n",
        "        out += identity  # Add the skip connection (residual connection)\n",
        "        out = self.relu(out)\n",
        "\n",
        "        return out\n",
        "\n",
        "\n",
        "class ConvAutoencoder(nn.Module):\n",
        "    def __init__(self):\n",
        "        super(ConvAutoencoder, self).__init__()\n",
        "\n",
        "        # Encoder with Residual Blocks\n",
        "        self.encoder = nn.Sequential(\n",
        "            ResidualBlock(3, 32, kernel_size=7, stride=2, padding=3),  # Output: (32, 64, 64)\n",
        "            ResidualBlock(32, 64, kernel_size=7, stride=2, padding=3), # Output: (64, 32, 32)\n",
        "            ResidualBlock(64, 128, kernel_size=7, stride=2, padding=3), # Output: (128, 16, 16)\n",
        "            ResidualBlock(128, 256, kernel_size=7, stride=2, padding=3), # Output: (256, 8, 8)\n",
        "        )\n",
        "\n",
        "        # Decoder with Residual Blocks\n",
        "        self.decoder = nn.Sequential(\n",
        "            nn.ConvTranspose2d(256, 128, kernel_size=7, stride=2, padding=3, output_padding=1),  # Output: (128, 16, 16)\n",
        "            nn.BatchNorm2d(128),\n",
        "            nn.LeakyReLU(0.2),\n",
        "\n",
        "            nn.ConvTranspose2d(128, 64, kernel_size=7, stride=2, padding=3, output_padding=1),  # Output: (64, 32, 32)\n",
        "            nn.BatchNorm2d(64),\n",
        "            nn.LeakyReLU(0.2),\n",
        "\n",
        "            nn.ConvTranspose2d(64, 32, kernel_size=7, stride=2, padding=3, output_padding=1),  # Output: (32, 64, 64)\n",
        "            nn.BatchNorm2d(32),\n",
        "            nn.LeakyReLU(0.2),\n",
        "\n",
        "            nn.ConvTranspose2d(32, 3, kernel_size=7, stride=2, padding=3, output_padding=1),  # Output: (3, 128, 128)\n",
        "            nn.Sigmoid()\n",
        "        )\n",
        "\n",
        "    def forward(self, x):\n",
        "        x = self.encoder(x)\n",
        "        x = self.decoder(x)\n",
        "        return x\n",
        "\n",
        "# Instantiate the model\n",
        "model = ConvAutoencoder()\n",
        "print(model)\n"
      ],
      "metadata": {
        "colab": {
          "base_uri": "https://localhost:8080/"
        },
        "id": "8n6ydMvCopn-",
        "outputId": "fe105cad-a790-4ab3-bb3b-caaaed036935"
      },
      "execution_count": 7,
      "outputs": [
        {
          "output_type": "stream",
          "name": "stdout",
          "text": [
            "ConvAutoencoder(\n",
            "  (encoder): Sequential(\n",
            "    (0): ResidualBlock(\n",
            "      (conv1): Conv2d(3, 32, kernel_size=(7, 7), stride=(2, 2), padding=(3, 3))\n",
            "      (bn1): BatchNorm2d(32, eps=1e-05, momentum=0.1, affine=True, track_running_stats=True)\n",
            "      (relu): LeakyReLU(negative_slope=0.2)\n",
            "      (conv2): Conv2d(32, 32, kernel_size=(7, 7), stride=(1, 1), padding=(3, 3))\n",
            "      (bn2): BatchNorm2d(32, eps=1e-05, momentum=0.1, affine=True, track_running_stats=True)\n",
            "      (skip_connection): Conv2d(3, 32, kernel_size=(1, 1), stride=(2, 2))\n",
            "    )\n",
            "    (1): ResidualBlock(\n",
            "      (conv1): Conv2d(32, 64, kernel_size=(7, 7), stride=(2, 2), padding=(3, 3))\n",
            "      (bn1): BatchNorm2d(64, eps=1e-05, momentum=0.1, affine=True, track_running_stats=True)\n",
            "      (relu): LeakyReLU(negative_slope=0.2)\n",
            "      (conv2): Conv2d(64, 64, kernel_size=(7, 7), stride=(1, 1), padding=(3, 3))\n",
            "      (bn2): BatchNorm2d(64, eps=1e-05, momentum=0.1, affine=True, track_running_stats=True)\n",
            "      (skip_connection): Conv2d(32, 64, kernel_size=(1, 1), stride=(2, 2))\n",
            "    )\n",
            "    (2): ResidualBlock(\n",
            "      (conv1): Conv2d(64, 128, kernel_size=(7, 7), stride=(2, 2), padding=(3, 3))\n",
            "      (bn1): BatchNorm2d(128, eps=1e-05, momentum=0.1, affine=True, track_running_stats=True)\n",
            "      (relu): LeakyReLU(negative_slope=0.2)\n",
            "      (conv2): Conv2d(128, 128, kernel_size=(7, 7), stride=(1, 1), padding=(3, 3))\n",
            "      (bn2): BatchNorm2d(128, eps=1e-05, momentum=0.1, affine=True, track_running_stats=True)\n",
            "      (skip_connection): Conv2d(64, 128, kernel_size=(1, 1), stride=(2, 2))\n",
            "    )\n",
            "    (3): ResidualBlock(\n",
            "      (conv1): Conv2d(128, 256, kernel_size=(7, 7), stride=(2, 2), padding=(3, 3))\n",
            "      (bn1): BatchNorm2d(256, eps=1e-05, momentum=0.1, affine=True, track_running_stats=True)\n",
            "      (relu): LeakyReLU(negative_slope=0.2)\n",
            "      (conv2): Conv2d(256, 256, kernel_size=(7, 7), stride=(1, 1), padding=(3, 3))\n",
            "      (bn2): BatchNorm2d(256, eps=1e-05, momentum=0.1, affine=True, track_running_stats=True)\n",
            "      (skip_connection): Conv2d(128, 256, kernel_size=(1, 1), stride=(2, 2))\n",
            "    )\n",
            "  )\n",
            "  (decoder): Sequential(\n",
            "    (0): ConvTranspose2d(256, 128, kernel_size=(7, 7), stride=(2, 2), padding=(3, 3), output_padding=(1, 1))\n",
            "    (1): BatchNorm2d(128, eps=1e-05, momentum=0.1, affine=True, track_running_stats=True)\n",
            "    (2): LeakyReLU(negative_slope=0.2)\n",
            "    (3): ConvTranspose2d(128, 64, kernel_size=(7, 7), stride=(2, 2), padding=(3, 3), output_padding=(1, 1))\n",
            "    (4): BatchNorm2d(64, eps=1e-05, momentum=0.1, affine=True, track_running_stats=True)\n",
            "    (5): LeakyReLU(negative_slope=0.2)\n",
            "    (6): ConvTranspose2d(64, 32, kernel_size=(7, 7), stride=(2, 2), padding=(3, 3), output_padding=(1, 1))\n",
            "    (7): BatchNorm2d(32, eps=1e-05, momentum=0.1, affine=True, track_running_stats=True)\n",
            "    (8): LeakyReLU(negative_slope=0.2)\n",
            "    (9): ConvTranspose2d(32, 3, kernel_size=(7, 7), stride=(2, 2), padding=(3, 3), output_padding=(1, 1))\n",
            "    (10): Sigmoid()\n",
            "  )\n",
            ")\n"
          ]
        }
      ]
    },
    {
      "cell_type": "code",
      "source": [
        "criterion = nn.MSELoss()\n",
        "optimizer = optim.Adam(model.parameters(), lr=0.001)\n"
      ],
      "metadata": {
        "id": "MxMTlGjsosJW"
      },
      "execution_count": 8,
      "outputs": []
    },
    {
      "cell_type": "code",
      "source": [
        "from tqdm import tqdm\n",
        "import torch\n",
        "\n",
        "def train_model(model, train_loader, valid_loader, criterion, optimizer, epochs=150, patience=10, device=\"cuda\" if torch.cuda.is_available() else \"cpu\"):\n",
        "    model.to(device)\n",
        "    best_valid_loss = float('inf')\n",
        "    patience_counter = 0\n",
        "\n",
        "    for epoch in range(epochs):\n",
        "        model.train()\n",
        "        train_loss = 0\n",
        "\n",
        "        train_bar = tqdm(train_loader, desc=f\"Epoch {epoch+1}/{epochs} [Training]\")\n",
        "        for images, _ in train_bar:  # We ignore labels\n",
        "            images = images.to(device)\n",
        "\n",
        "            # Forward pass\n",
        "            outputs = model(images)\n",
        "            loss = criterion(outputs, images)  # Reconstruction loss\n",
        "\n",
        "            # Backward pass\n",
        "            optimizer.zero_grad()\n",
        "            loss.backward()\n",
        "            optimizer.step()\n",
        "\n",
        "            train_loss += loss.item()\n",
        "            train_bar.set_postfix(loss=f\"{loss.item():.4f}\")\n",
        "\n",
        "        # Validation Loss Calculation\n",
        "        model.eval()\n",
        "        valid_loss = 0\n",
        "\n",
        "        valid_bar = tqdm(valid_loader, desc=f\"Epoch {epoch+1}/{epochs} [Validation]\")\n",
        "        with torch.no_grad():\n",
        "            for images, _ in valid_bar:\n",
        "                images = images.to(device)\n",
        "                outputs = model(images)\n",
        "                loss = criterion(outputs, images)\n",
        "                valid_loss += loss.item()\n",
        "                valid_bar.set_postfix(loss=f\"{loss.item():.4f}\")\n",
        "\n",
        "        avg_train_loss = train_loss / len(train_loader)\n",
        "        avg_valid_loss = valid_loss / len(valid_loader)\n",
        "        print(f\"Epoch [{epoch+1}/{epochs}], Train Loss: {avg_train_loss:.4f}, Valid Loss: {avg_valid_loss:.4f}\")\n",
        "\n",
        "        # Early Stopping Check\n",
        "        if avg_valid_loss < best_valid_loss:\n",
        "            best_valid_loss = avg_valid_loss\n",
        "            patience_counter = 0  # Reset counter if validation loss improves\n",
        "        else:\n",
        "            patience_counter += 1\n",
        "            if patience_counter >= patience:\n",
        "                print(\"Early stopping triggered.\")\n",
        "                break\n",
        "\n",
        "# Train the model\n",
        "train_model(model, train_loader, valid_loader, criterion, optimizer, epochs=300)"
      ],
      "metadata": {
        "colab": {
          "base_uri": "https://localhost:8080/"
        },
        "id": "meEKhlS1otnu",
        "outputId": "f0fc67a3-ef3b-4501-b49a-8c40a505d159"
      },
      "execution_count": 9,
      "outputs": [
        {
          "metadata": {
            "tags": null
          },
          "name": "stderr",
          "output_type": "stream",
          "text": [
            "Epoch 1/300 [Training]: 100%|██████████| 362/362 [01:32<00:00,  3.90it/s, loss=0.1665]\n",
            "Epoch 1/300 [Validation]: 100%|██████████| 21/21 [00:04<00:00,  4.64it/s, loss=0.2591]\n"
          ]
        },
        {
          "metadata": {
            "tags": null
          },
          "name": "stdout",
          "output_type": "stream",
          "text": [
            "Epoch [1/300], Train Loss: 0.2047, Valid Loss: 0.1890\n"
          ]
        },
        {
          "metadata": {
            "tags": null
          },
          "name": "stderr",
          "output_type": "stream",
          "text": [
            "Epoch 2/300 [Training]: 100%|██████████| 362/362 [01:31<00:00,  3.95it/s, loss=0.2328]\n",
            "Epoch 2/300 [Validation]: 100%|██████████| 21/21 [00:04<00:00,  4.64it/s, loss=0.2497]\n"
          ]
        },
        {
          "metadata": {
            "tags": null
          },
          "name": "stdout",
          "output_type": "stream",
          "text": [
            "Epoch [2/300], Train Loss: 0.1826, Valid Loss: 0.1826\n"
          ]
        },
        {
          "metadata": {
            "tags": null
          },
          "name": "stderr",
          "output_type": "stream",
          "text": [
            "Epoch 3/300 [Training]: 100%|██████████| 362/362 [01:33<00:00,  3.88it/s, loss=0.1694]\n",
            "Epoch 3/300 [Validation]: 100%|██████████| 21/21 [00:04<00:00,  4.77it/s, loss=0.2484]\n"
          ]
        },
        {
          "metadata": {
            "tags": null
          },
          "name": "stdout",
          "output_type": "stream",
          "text": [
            "Epoch [3/300], Train Loss: 0.1807, Valid Loss: 0.1813\n"
          ]
        },
        {
          "metadata": {
            "tags": null
          },
          "name": "stderr",
          "output_type": "stream",
          "text": [
            "Epoch 4/300 [Training]: 100%|██████████| 362/362 [01:33<00:00,  3.89it/s, loss=0.1528]\n",
            "Epoch 4/300 [Validation]: 100%|██████████| 21/21 [00:04<00:00,  4.58it/s, loss=0.2477]\n"
          ]
        },
        {
          "metadata": {
            "tags": null
          },
          "name": "stdout",
          "output_type": "stream",
          "text": [
            "Epoch [4/300], Train Loss: 0.1792, Valid Loss: 0.1812\n"
          ]
        },
        {
          "metadata": {
            "tags": null
          },
          "name": "stderr",
          "output_type": "stream",
          "text": [
            "Epoch 5/300 [Training]: 100%|██████████| 362/362 [01:32<00:00,  3.91it/s, loss=0.2459]\n",
            "Epoch 5/300 [Validation]: 100%|██████████| 21/21 [00:04<00:00,  4.83it/s, loss=0.2452]\n"
          ]
        },
        {
          "metadata": {
            "tags": null
          },
          "name": "stdout",
          "output_type": "stream",
          "text": [
            "Epoch [5/300], Train Loss: 0.1782, Valid Loss: 0.1792\n"
          ]
        },
        {
          "metadata": {
            "tags": null
          },
          "name": "stderr",
          "output_type": "stream",
          "text": [
            "Epoch 6/300 [Training]: 100%|██████████| 362/362 [01:51<00:00,  3.23it/s, loss=0.1276]\n",
            "Epoch 6/300 [Validation]: 100%|██████████| 21/21 [00:03<00:00,  5.41it/s, loss=0.2448]\n"
          ]
        },
        {
          "metadata": {
            "tags": null
          },
          "name": "stdout",
          "output_type": "stream",
          "text": [
            "Epoch [6/300], Train Loss: 0.1774, Valid Loss: 0.1788\n"
          ]
        },
        {
          "metadata": {
            "tags": null
          },
          "name": "stderr",
          "output_type": "stream",
          "text": [
            "Epoch 7/300 [Training]: 100%|██████████| 362/362 [01:33<00:00,  3.88it/s, loss=0.1300]\n",
            "Epoch 7/300 [Validation]: 100%|██████████| 21/21 [00:03<00:00,  5.77it/s, loss=0.2439]\n"
          ]
        },
        {
          "metadata": {
            "tags": null
          },
          "name": "stdout",
          "output_type": "stream",
          "text": [
            "Epoch [7/300], Train Loss: 0.1767, Valid Loss: 0.1782\n"
          ]
        },
        {
          "metadata": {
            "tags": null
          },
          "name": "stderr",
          "output_type": "stream",
          "text": [
            "Epoch 8/300 [Training]: 100%|██████████| 362/362 [01:32<00:00,  3.93it/s, loss=0.1723]\n",
            "Epoch 8/300 [Validation]: 100%|██████████| 21/21 [00:03<00:00,  5.79it/s, loss=0.2436]\n"
          ]
        },
        {
          "metadata": {
            "tags": null
          },
          "name": "stdout",
          "output_type": "stream",
          "text": [
            "Epoch [8/300], Train Loss: 0.1764, Valid Loss: 0.1779\n"
          ]
        },
        {
          "metadata": {
            "tags": null
          },
          "name": "stderr",
          "output_type": "stream",
          "text": [
            "Epoch 9/300 [Training]: 100%|██████████| 362/362 [01:31<00:00,  3.96it/s, loss=0.2103]\n",
            "Epoch 9/300 [Validation]: 100%|██████████| 21/21 [00:03<00:00,  5.83it/s, loss=0.2438]\n"
          ]
        },
        {
          "metadata": {
            "tags": null
          },
          "name": "stdout",
          "output_type": "stream",
          "text": [
            "Epoch [9/300], Train Loss: 0.1760, Valid Loss: 0.1781\n"
          ]
        },
        {
          "metadata": {
            "tags": null
          },
          "name": "stderr",
          "output_type": "stream",
          "text": [
            "Epoch 10/300 [Training]: 100%|██████████| 362/362 [01:31<00:00,  3.94it/s, loss=0.1418]\n",
            "Epoch 10/300 [Validation]: 100%|██████████| 21/21 [00:04<00:00,  4.94it/s, loss=0.2428]\n"
          ]
        },
        {
          "metadata": {
            "tags": null
          },
          "name": "stdout",
          "output_type": "stream",
          "text": [
            "Epoch [10/300], Train Loss: 0.1756, Valid Loss: 0.1773\n"
          ]
        },
        {
          "metadata": {
            "tags": null
          },
          "name": "stderr",
          "output_type": "stream",
          "text": [
            "Epoch 11/300 [Training]: 100%|██████████| 362/362 [01:32<00:00,  3.90it/s, loss=0.1800]\n",
            "Epoch 11/300 [Validation]: 100%|██████████| 21/21 [00:04<00:00,  4.68it/s, loss=0.2426]\n"
          ]
        },
        {
          "metadata": {
            "tags": null
          },
          "name": "stdout",
          "output_type": "stream",
          "text": [
            "Epoch [11/300], Train Loss: 0.1754, Valid Loss: 0.1772\n"
          ]
        },
        {
          "metadata": {
            "tags": null
          },
          "name": "stderr",
          "output_type": "stream",
          "text": [
            "Epoch 12/300 [Training]: 100%|██████████| 362/362 [01:31<00:00,  3.96it/s, loss=0.1643]\n",
            "Epoch 12/300 [Validation]: 100%|██████████| 21/21 [00:04<00:00,  4.73it/s, loss=0.2423]\n"
          ]
        },
        {
          "metadata": {
            "tags": null
          },
          "name": "stdout",
          "output_type": "stream",
          "text": [
            "Epoch [12/300], Train Loss: 0.1752, Valid Loss: 0.1769\n"
          ]
        },
        {
          "metadata": {
            "tags": null
          },
          "name": "stderr",
          "output_type": "stream",
          "text": [
            "Epoch 13/300 [Training]: 100%|██████████| 362/362 [01:31<00:00,  3.96it/s, loss=0.1491]\n",
            "Epoch 13/300 [Validation]: 100%|██████████| 21/21 [00:04<00:00,  4.73it/s, loss=0.2426]\n"
          ]
        },
        {
          "metadata": {
            "tags": null
          },
          "name": "stdout",
          "output_type": "stream",
          "text": [
            "Epoch [13/300], Train Loss: 0.1750, Valid Loss: 0.1772\n"
          ]
        },
        {
          "metadata": {
            "tags": null
          },
          "name": "stderr",
          "output_type": "stream",
          "text": [
            "Epoch 14/300 [Training]: 100%|██████████| 362/362 [01:31<00:00,  3.94it/s, loss=0.1513]\n",
            "Epoch 14/300 [Validation]: 100%|██████████| 21/21 [00:04<00:00,  5.19it/s, loss=0.2422]\n"
          ]
        },
        {
          "metadata": {
            "tags": null
          },
          "name": "stdout",
          "output_type": "stream",
          "text": [
            "Epoch [14/300], Train Loss: 0.1750, Valid Loss: 0.1769\n"
          ]
        },
        {
          "metadata": {
            "tags": null
          },
          "name": "stderr",
          "output_type": "stream",
          "text": [
            "Epoch 15/300 [Training]: 100%|██████████| 362/362 [01:31<00:00,  3.94it/s, loss=0.1187]\n",
            "Epoch 15/300 [Validation]: 100%|██████████| 21/21 [00:03<00:00,  5.58it/s, loss=0.2423]\n"
          ]
        },
        {
          "metadata": {
            "tags": null
          },
          "name": "stdout",
          "output_type": "stream",
          "text": [
            "Epoch [15/300], Train Loss: 0.1748, Valid Loss: 0.1769\n"
          ]
        },
        {
          "metadata": {
            "tags": null
          },
          "name": "stderr",
          "output_type": "stream",
          "text": [
            "Epoch 16/300 [Training]: 100%|██████████| 362/362 [01:32<00:00,  3.92it/s, loss=0.1896]\n",
            "Epoch 16/300 [Validation]: 100%|██████████| 21/21 [00:03<00:00,  5.48it/s, loss=0.2420]\n"
          ]
        },
        {
          "metadata": {
            "tags": null
          },
          "name": "stdout",
          "output_type": "stream",
          "text": [
            "Epoch [16/300], Train Loss: 0.1749, Valid Loss: 0.1767\n"
          ]
        },
        {
          "metadata": {
            "tags": null
          },
          "name": "stderr",
          "output_type": "stream",
          "text": [
            "Epoch 17/300 [Training]: 100%|██████████| 362/362 [01:32<00:00,  3.92it/s, loss=0.1434]\n",
            "Epoch 17/300 [Validation]: 100%|██████████| 21/21 [00:03<00:00,  5.53it/s, loss=0.2418]\n"
          ]
        },
        {
          "metadata": {
            "tags": null
          },
          "name": "stdout",
          "output_type": "stream",
          "text": [
            "Epoch [17/300], Train Loss: 0.1746, Valid Loss: 0.1766\n"
          ]
        },
        {
          "metadata": {
            "tags": null
          },
          "name": "stderr",
          "output_type": "stream",
          "text": [
            "Epoch 18/300 [Training]: 100%|██████████| 362/362 [01:32<00:00,  3.93it/s, loss=0.2185]\n",
            "Epoch 18/300 [Validation]: 100%|██████████| 21/21 [00:03<00:00,  5.71it/s, loss=0.2416]\n"
          ]
        },
        {
          "metadata": {
            "tags": null
          },
          "name": "stdout",
          "output_type": "stream",
          "text": [
            "Epoch [18/300], Train Loss: 0.1746, Valid Loss: 0.1763\n"
          ]
        },
        {
          "metadata": {
            "tags": null
          },
          "name": "stderr",
          "output_type": "stream",
          "text": [
            "Epoch 19/300 [Training]: 100%|██████████| 362/362 [01:33<00:00,  3.89it/s, loss=0.1909]\n",
            "Epoch 19/300 [Validation]: 100%|██████████| 21/21 [00:03<00:00,  5.70it/s, loss=0.2414]\n"
          ]
        },
        {
          "metadata": {
            "tags": null
          },
          "name": "stdout",
          "output_type": "stream",
          "text": [
            "Epoch [19/300], Train Loss: 0.1745, Valid Loss: 0.1762\n"
          ]
        },
        {
          "metadata": {
            "tags": null
          },
          "name": "stderr",
          "output_type": "stream",
          "text": [
            "Epoch 20/300 [Training]: 100%|██████████| 362/362 [01:32<00:00,  3.93it/s, loss=0.1950]\n",
            "Epoch 20/300 [Validation]: 100%|██████████| 21/21 [00:03<00:00,  5.33it/s, loss=0.2415]\n"
          ]
        },
        {
          "metadata": {
            "tags": null
          },
          "name": "stdout",
          "output_type": "stream",
          "text": [
            "Epoch [20/300], Train Loss: 0.1744, Valid Loss: 0.1762\n"
          ]
        },
        {
          "metadata": {
            "tags": null
          },
          "name": "stderr",
          "output_type": "stream",
          "text": [
            "Epoch 21/300 [Training]: 100%|██████████| 362/362 [01:31<00:00,  3.94it/s, loss=0.1298]\n",
            "Epoch 21/300 [Validation]: 100%|██████████| 21/21 [00:04<00:00,  4.79it/s, loss=0.2416]\n"
          ]
        },
        {
          "metadata": {
            "tags": null
          },
          "name": "stdout",
          "output_type": "stream",
          "text": [
            "Epoch [21/300], Train Loss: 0.1743, Valid Loss: 0.1764\n"
          ]
        },
        {
          "metadata": {
            "tags": null
          },
          "name": "stderr",
          "output_type": "stream",
          "text": [
            "Epoch 22/300 [Training]: 100%|██████████| 362/362 [01:32<00:00,  3.91it/s, loss=0.2230]\n",
            "Epoch 22/300 [Validation]: 100%|██████████| 21/21 [00:04<00:00,  4.59it/s, loss=0.2412]\n"
          ]
        },
        {
          "metadata": {
            "tags": null
          },
          "name": "stdout",
          "output_type": "stream",
          "text": [
            "Epoch [22/300], Train Loss: 0.1742, Valid Loss: 0.1761\n"
          ]
        },
        {
          "metadata": {
            "tags": null
          },
          "name": "stderr",
          "output_type": "stream",
          "text": [
            "Epoch 23/300 [Training]: 100%|██████████| 362/362 [01:31<00:00,  3.95it/s, loss=0.2093]\n",
            "Epoch 23/300 [Validation]: 100%|██████████| 21/21 [00:04<00:00,  4.61it/s, loss=0.2411]\n"
          ]
        },
        {
          "metadata": {
            "tags": null
          },
          "name": "stdout",
          "output_type": "stream",
          "text": [
            "Epoch [23/300], Train Loss: 0.1741, Valid Loss: 0.1760\n"
          ]
        },
        {
          "metadata": {
            "tags": null
          },
          "name": "stderr",
          "output_type": "stream",
          "text": [
            "Epoch 24/300 [Training]: 100%|██████████| 362/362 [01:31<00:00,  3.96it/s, loss=0.1976]\n",
            "Epoch 24/300 [Validation]: 100%|██████████| 21/21 [00:04<00:00,  4.69it/s, loss=0.2410]\n"
          ]
        },
        {
          "metadata": {
            "tags": null
          },
          "name": "stdout",
          "output_type": "stream",
          "text": [
            "Epoch [24/300], Train Loss: 0.1739, Valid Loss: 0.1759\n"
          ]
        },
        {
          "metadata": {
            "tags": null
          },
          "name": "stderr",
          "output_type": "stream",
          "text": [
            "Epoch 25/300 [Training]: 100%|██████████| 362/362 [01:32<00:00,  3.91it/s, loss=0.1629]\n",
            "Epoch 25/300 [Validation]: 100%|██████████| 21/21 [00:04<00:00,  4.63it/s, loss=0.2408]\n"
          ]
        },
        {
          "metadata": {
            "tags": null
          },
          "name": "stdout",
          "output_type": "stream",
          "text": [
            "Epoch [25/300], Train Loss: 0.1738, Valid Loss: 0.1757\n"
          ]
        },
        {
          "metadata": {
            "tags": null
          },
          "name": "stderr",
          "output_type": "stream",
          "text": [
            "Epoch 26/300 [Training]: 100%|██████████| 362/362 [01:31<00:00,  3.94it/s, loss=0.1656]\n",
            "Epoch 26/300 [Validation]: 100%|██████████| 21/21 [00:03<00:00,  5.25it/s, loss=0.2409]\n"
          ]
        },
        {
          "metadata": {
            "tags": null
          },
          "name": "stdout",
          "output_type": "stream",
          "text": [
            "Epoch [26/300], Train Loss: 0.1738, Valid Loss: 0.1758\n"
          ]
        },
        {
          "metadata": {
            "tags": null
          },
          "name": "stderr",
          "output_type": "stream",
          "text": [
            "Epoch 27/300 [Training]: 100%|██████████| 362/362 [01:31<00:00,  3.94it/s, loss=0.2428]\n",
            "Epoch 27/300 [Validation]: 100%|██████████| 21/21 [00:03<00:00,  5.41it/s, loss=0.2410]\n"
          ]
        },
        {
          "metadata": {
            "tags": null
          },
          "name": "stdout",
          "output_type": "stream",
          "text": [
            "Epoch [27/300], Train Loss: 0.1737, Valid Loss: 0.1758\n"
          ]
        },
        {
          "metadata": {
            "tags": null
          },
          "name": "stderr",
          "output_type": "stream",
          "text": [
            "Epoch 28/300 [Training]: 100%|██████████| 362/362 [01:33<00:00,  3.88it/s, loss=0.2022]\n",
            "Epoch 28/300 [Validation]: 100%|██████████| 21/21 [00:03<00:00,  5.70it/s, loss=0.2408]\n"
          ]
        },
        {
          "metadata": {
            "tags": null
          },
          "name": "stdout",
          "output_type": "stream",
          "text": [
            "Epoch [28/300], Train Loss: 0.1737, Valid Loss: 0.1758\n"
          ]
        },
        {
          "metadata": {
            "tags": null
          },
          "name": "stderr",
          "output_type": "stream",
          "text": [
            "Epoch 29/300 [Training]: 100%|██████████| 362/362 [01:32<00:00,  3.92it/s, loss=0.1553]\n",
            "Epoch 29/300 [Validation]: 100%|██████████| 21/21 [00:03<00:00,  5.50it/s, loss=0.2405]\n"
          ]
        },
        {
          "metadata": {
            "tags": null
          },
          "name": "stdout",
          "output_type": "stream",
          "text": [
            "Epoch [29/300], Train Loss: 0.1735, Valid Loss: 0.1755\n"
          ]
        },
        {
          "metadata": {
            "tags": null
          },
          "name": "stderr",
          "output_type": "stream",
          "text": [
            "Epoch 30/300 [Training]: 100%|██████████| 362/362 [01:32<00:00,  3.92it/s, loss=0.1569]\n",
            "Epoch 30/300 [Validation]: 100%|██████████| 21/21 [00:03<00:00,  5.51it/s, loss=0.2405]\n"
          ]
        },
        {
          "metadata": {
            "tags": null
          },
          "name": "stdout",
          "output_type": "stream",
          "text": [
            "Epoch [30/300], Train Loss: 0.1735, Valid Loss: 0.1754\n"
          ]
        },
        {
          "metadata": {
            "tags": null
          },
          "name": "stderr",
          "output_type": "stream",
          "text": [
            "Epoch 31/300 [Training]: 100%|██████████| 362/362 [01:31<00:00,  3.93it/s, loss=0.1194]\n",
            "Epoch 31/300 [Validation]: 100%|██████████| 21/21 [00:03<00:00,  5.74it/s, loss=0.2408]\n"
          ]
        },
        {
          "metadata": {
            "tags": null
          },
          "name": "stdout",
          "output_type": "stream",
          "text": [
            "Epoch [31/300], Train Loss: 0.1734, Valid Loss: 0.1757\n"
          ]
        },
        {
          "metadata": {
            "tags": null
          },
          "name": "stderr",
          "output_type": "stream",
          "text": [
            "Epoch 32/300 [Training]: 100%|██████████| 362/362 [01:31<00:00,  3.94it/s, loss=0.1898]\n",
            "Epoch 32/300 [Validation]: 100%|██████████| 21/21 [00:03<00:00,  5.69it/s, loss=0.2405]\n"
          ]
        },
        {
          "metadata": {
            "tags": null
          },
          "name": "stdout",
          "output_type": "stream",
          "text": [
            "Epoch [32/300], Train Loss: 0.1734, Valid Loss: 0.1754\n"
          ]
        },
        {
          "metadata": {
            "tags": null
          },
          "name": "stderr",
          "output_type": "stream",
          "text": [
            "Epoch 33/300 [Training]: 100%|██████████| 362/362 [01:31<00:00,  3.95it/s, loss=0.1372]\n",
            "Epoch 33/300 [Validation]: 100%|██████████| 21/21 [00:03<00:00,  5.66it/s, loss=0.2404]\n"
          ]
        },
        {
          "metadata": {
            "tags": null
          },
          "name": "stdout",
          "output_type": "stream",
          "text": [
            "Epoch [33/300], Train Loss: 0.1733, Valid Loss: 0.1753\n"
          ]
        },
        {
          "metadata": {
            "tags": null
          },
          "name": "stderr",
          "output_type": "stream",
          "text": [
            "Epoch 34/300 [Training]: 100%|██████████| 362/362 [01:31<00:00,  3.95it/s, loss=0.1537]\n",
            "Epoch 34/300 [Validation]: 100%|██████████| 21/21 [00:03<00:00,  5.65it/s, loss=0.2405]\n"
          ]
        },
        {
          "metadata": {
            "tags": null
          },
          "name": "stdout",
          "output_type": "stream",
          "text": [
            "Epoch [34/300], Train Loss: 0.1733, Valid Loss: 0.1755\n"
          ]
        },
        {
          "metadata": {
            "tags": null
          },
          "name": "stderr",
          "output_type": "stream",
          "text": [
            "Epoch 35/300 [Training]: 100%|██████████| 362/362 [01:32<00:00,  3.90it/s, loss=0.1325]\n",
            "Epoch 35/300 [Validation]: 100%|██████████| 21/21 [00:04<00:00,  5.04it/s, loss=0.2403]\n"
          ]
        },
        {
          "metadata": {
            "tags": null
          },
          "name": "stdout",
          "output_type": "stream",
          "text": [
            "Epoch [35/300], Train Loss: 0.1732, Valid Loss: 0.1752\n"
          ]
        },
        {
          "metadata": {
            "tags": null
          },
          "name": "stderr",
          "output_type": "stream",
          "text": [
            "Epoch 36/300 [Training]: 100%|██████████| 362/362 [01:31<00:00,  3.95it/s, loss=0.1280]\n",
            "Epoch 36/300 [Validation]: 100%|██████████| 21/21 [00:04<00:00,  4.87it/s, loss=0.2403]\n"
          ]
        },
        {
          "metadata": {
            "tags": null
          },
          "name": "stdout",
          "output_type": "stream",
          "text": [
            "Epoch [36/300], Train Loss: 0.1731, Valid Loss: 0.1753\n"
          ]
        },
        {
          "metadata": {
            "tags": null
          },
          "name": "stderr",
          "output_type": "stream",
          "text": [
            "Epoch 37/300 [Training]: 100%|██████████| 362/362 [01:31<00:00,  3.94it/s, loss=0.1665]\n",
            "Epoch 37/300 [Validation]: 100%|██████████| 21/21 [00:04<00:00,  4.91it/s, loss=0.2402]\n"
          ]
        },
        {
          "metadata": {
            "tags": null
          },
          "name": "stdout",
          "output_type": "stream",
          "text": [
            "Epoch [37/300], Train Loss: 0.1731, Valid Loss: 0.1753\n"
          ]
        },
        {
          "metadata": {
            "tags": null
          },
          "name": "stderr",
          "output_type": "stream",
          "text": [
            "Epoch 38/300 [Training]: 100%|██████████| 362/362 [01:32<00:00,  3.93it/s, loss=0.2579]\n",
            "Epoch 38/300 [Validation]: 100%|██████████| 21/21 [00:04<00:00,  4.64it/s, loss=0.2401]\n"
          ]
        },
        {
          "metadata": {
            "tags": null
          },
          "name": "stdout",
          "output_type": "stream",
          "text": [
            "Epoch [38/300], Train Loss: 0.1731, Valid Loss: 0.1751\n"
          ]
        },
        {
          "metadata": {
            "tags": null
          },
          "name": "stderr",
          "output_type": "stream",
          "text": [
            "Epoch 39/300 [Training]: 100%|██████████| 362/362 [01:31<00:00,  3.96it/s, loss=0.2053]\n",
            "Epoch 39/300 [Validation]: 100%|██████████| 21/21 [00:04<00:00,  4.68it/s, loss=0.2404]\n"
          ]
        },
        {
          "metadata": {
            "tags": null
          },
          "name": "stdout",
          "output_type": "stream",
          "text": [
            "Epoch [39/300], Train Loss: 0.1731, Valid Loss: 0.1753\n"
          ]
        },
        {
          "metadata": {
            "tags": null
          },
          "name": "stderr",
          "output_type": "stream",
          "text": [
            "Epoch 40/300 [Training]: 100%|██████████| 362/362 [01:32<00:00,  3.93it/s, loss=0.1873]\n",
            "Epoch 40/300 [Validation]: 100%|██████████| 21/21 [00:04<00:00,  5.13it/s, loss=0.2400]\n"
          ]
        },
        {
          "metadata": {
            "tags": null
          },
          "name": "stdout",
          "output_type": "stream",
          "text": [
            "Epoch [40/300], Train Loss: 0.1730, Valid Loss: 0.1750\n"
          ]
        },
        {
          "metadata": {
            "tags": null
          },
          "name": "stderr",
          "output_type": "stream",
          "text": [
            "Epoch 41/300 [Training]: 100%|██████████| 362/362 [01:31<00:00,  3.94it/s, loss=0.2180]\n",
            "Epoch 41/300 [Validation]: 100%|██████████| 21/21 [00:03<00:00,  5.52it/s, loss=0.2399]\n"
          ]
        },
        {
          "metadata": {
            "tags": null
          },
          "name": "stdout",
          "output_type": "stream",
          "text": [
            "Epoch [41/300], Train Loss: 0.1730, Valid Loss: 0.1750\n"
          ]
        },
        {
          "metadata": {
            "tags": null
          },
          "name": "stderr",
          "output_type": "stream",
          "text": [
            "Epoch 42/300 [Training]: 100%|██████████| 362/362 [01:31<00:00,  3.93it/s, loss=0.1884]\n",
            "Epoch 42/300 [Validation]: 100%|██████████| 21/21 [00:03<00:00,  5.63it/s, loss=0.2400]\n"
          ]
        },
        {
          "metadata": {
            "tags": null
          },
          "name": "stdout",
          "output_type": "stream",
          "text": [
            "Epoch [42/300], Train Loss: 0.1730, Valid Loss: 0.1751\n"
          ]
        },
        {
          "metadata": {
            "tags": null
          },
          "name": "stderr",
          "output_type": "stream",
          "text": [
            "Epoch 43/300 [Training]: 100%|██████████| 362/362 [01:32<00:00,  3.93it/s, loss=0.1268]\n",
            "Epoch 43/300 [Validation]: 100%|██████████| 21/21 [00:03<00:00,  5.69it/s, loss=0.2398]\n"
          ]
        },
        {
          "metadata": {
            "tags": null
          },
          "name": "stdout",
          "output_type": "stream",
          "text": [
            "Epoch [43/300], Train Loss: 0.1729, Valid Loss: 0.1749\n"
          ]
        },
        {
          "metadata": {
            "tags": null
          },
          "name": "stderr",
          "output_type": "stream",
          "text": [
            "Epoch 44/300 [Training]: 100%|██████████| 362/362 [01:32<00:00,  3.93it/s, loss=0.1541]\n",
            "Epoch 44/300 [Validation]: 100%|██████████| 21/21 [00:03<00:00,  5.58it/s, loss=0.2408]\n"
          ]
        },
        {
          "metadata": {
            "tags": null
          },
          "name": "stdout",
          "output_type": "stream",
          "text": [
            "Epoch [44/300], Train Loss: 0.1729, Valid Loss: 0.1757\n"
          ]
        },
        {
          "metadata": {
            "tags": null
          },
          "name": "stderr",
          "output_type": "stream",
          "text": [
            "Epoch 45/300 [Training]: 100%|██████████| 362/362 [01:31<00:00,  3.95it/s, loss=0.1968]\n",
            "Epoch 45/300 [Validation]: 100%|██████████| 21/21 [00:03<00:00,  5.59it/s, loss=0.2399]\n"
          ]
        },
        {
          "metadata": {
            "tags": null
          },
          "name": "stdout",
          "output_type": "stream",
          "text": [
            "Epoch [45/300], Train Loss: 0.1729, Valid Loss: 0.1750\n"
          ]
        },
        {
          "metadata": {
            "tags": null
          },
          "name": "stderr",
          "output_type": "stream",
          "text": [
            "Epoch 46/300 [Training]: 100%|██████████| 362/362 [01:32<00:00,  3.91it/s, loss=0.1430]\n",
            "Epoch 46/300 [Validation]: 100%|██████████| 21/21 [00:03<00:00,  5.46it/s, loss=0.2405]\n"
          ]
        },
        {
          "metadata": {
            "tags": null
          },
          "name": "stdout",
          "output_type": "stream",
          "text": [
            "Epoch [46/300], Train Loss: 0.1728, Valid Loss: 0.1756\n"
          ]
        },
        {
          "metadata": {
            "tags": null
          },
          "name": "stderr",
          "output_type": "stream",
          "text": [
            "Epoch 47/300 [Training]: 100%|██████████| 362/362 [01:32<00:00,  3.93it/s, loss=0.1439]\n",
            "Epoch 47/300 [Validation]: 100%|██████████| 21/21 [00:03<00:00,  5.51it/s, loss=0.2398]\n"
          ]
        },
        {
          "metadata": {
            "tags": null
          },
          "name": "stdout",
          "output_type": "stream",
          "text": [
            "Epoch [47/300], Train Loss: 0.1728, Valid Loss: 0.1749\n"
          ]
        },
        {
          "metadata": {
            "tags": null
          },
          "name": "stderr",
          "output_type": "stream",
          "text": [
            "Epoch 48/300 [Training]: 100%|██████████| 362/362 [01:31<00:00,  3.94it/s, loss=0.1052]\n",
            "Epoch 48/300 [Validation]: 100%|██████████| 21/21 [00:03<00:00,  5.62it/s, loss=0.2398]\n"
          ]
        },
        {
          "metadata": {
            "tags": null
          },
          "name": "stdout",
          "output_type": "stream",
          "text": [
            "Epoch [48/300], Train Loss: 0.1727, Valid Loss: 0.1749\n"
          ]
        },
        {
          "metadata": {
            "tags": null
          },
          "name": "stderr",
          "output_type": "stream",
          "text": [
            "Epoch 49/300 [Training]: 100%|██████████| 362/362 [01:31<00:00,  3.95it/s, loss=0.2541]\n",
            "Epoch 49/300 [Validation]: 100%|██████████| 21/21 [00:03<00:00,  5.67it/s, loss=0.2398]\n"
          ]
        },
        {
          "metadata": {
            "tags": null
          },
          "name": "stdout",
          "output_type": "stream",
          "text": [
            "Epoch [49/300], Train Loss: 0.1728, Valid Loss: 0.1749\n"
          ]
        },
        {
          "metadata": {
            "tags": null
          },
          "name": "stderr",
          "output_type": "stream",
          "text": [
            "Epoch 50/300 [Training]: 100%|██████████| 362/362 [01:31<00:00,  3.97it/s, loss=0.1841]\n",
            "Epoch 50/300 [Validation]: 100%|██████████| 21/21 [00:03<00:00,  5.49it/s, loss=0.2398]\n"
          ]
        },
        {
          "metadata": {
            "tags": null
          },
          "name": "stdout",
          "output_type": "stream",
          "text": [
            "Epoch [50/300], Train Loss: 0.1727, Valid Loss: 0.1749\n"
          ]
        },
        {
          "metadata": {
            "tags": null
          },
          "name": "stderr",
          "output_type": "stream",
          "text": [
            "Epoch 51/300 [Training]: 100%|██████████| 362/362 [01:31<00:00,  3.95it/s, loss=0.1598]\n",
            "Epoch 51/300 [Validation]: 100%|██████████| 21/21 [00:03<00:00,  5.48it/s, loss=0.2398]\n"
          ]
        },
        {
          "metadata": {
            "tags": null
          },
          "name": "stdout",
          "output_type": "stream",
          "text": [
            "Epoch [51/300], Train Loss: 0.1727, Valid Loss: 0.1749\n"
          ]
        },
        {
          "metadata": {
            "tags": null
          },
          "name": "stderr",
          "output_type": "stream",
          "text": [
            "Epoch 52/300 [Training]: 100%|██████████| 362/362 [01:31<00:00,  3.96it/s, loss=0.1840]\n",
            "Epoch 52/300 [Validation]: 100%|██████████| 21/21 [00:03<00:00,  5.70it/s, loss=0.2398]\n"
          ]
        },
        {
          "metadata": {
            "tags": null
          },
          "name": "stdout",
          "output_type": "stream",
          "text": [
            "Epoch [52/300], Train Loss: 0.1727, Valid Loss: 0.1749\n"
          ]
        },
        {
          "metadata": {
            "tags": null
          },
          "name": "stderr",
          "output_type": "stream",
          "text": [
            "Epoch 53/300 [Training]: 100%|██████████| 362/362 [01:31<00:00,  3.96it/s, loss=0.2566]\n",
            "Epoch 53/300 [Validation]: 100%|██████████| 21/21 [00:03<00:00,  5.44it/s, loss=0.2398]\n"
          ]
        },
        {
          "metadata": {
            "tags": null
          },
          "name": "stdout",
          "output_type": "stream",
          "text": [
            "Epoch [53/300], Train Loss: 0.1727, Valid Loss: 0.1749\n"
          ]
        },
        {
          "metadata": {
            "tags": null
          },
          "name": "stderr",
          "output_type": "stream",
          "text": [
            "Epoch 54/300 [Training]: 100%|██████████| 362/362 [01:32<00:00,  3.93it/s, loss=0.1769]\n",
            "Epoch 54/300 [Validation]: 100%|██████████| 21/21 [00:03<00:00,  5.62it/s, loss=0.2397]\n"
          ]
        },
        {
          "metadata": {
            "tags": null
          },
          "name": "stdout",
          "output_type": "stream",
          "text": [
            "Epoch [54/300], Train Loss: 0.1726, Valid Loss: 0.1748\n"
          ]
        },
        {
          "metadata": {
            "tags": null
          },
          "name": "stderr",
          "output_type": "stream",
          "text": [
            "Epoch 55/300 [Training]: 100%|██████████| 362/362 [01:32<00:00,  3.92it/s, loss=0.1580]\n",
            "Epoch 55/300 [Validation]: 100%|██████████| 21/21 [00:03<00:00,  5.26it/s, loss=0.2397]\n"
          ]
        },
        {
          "metadata": {
            "tags": null
          },
          "name": "stdout",
          "output_type": "stream",
          "text": [
            "Epoch [55/300], Train Loss: 0.1726, Valid Loss: 0.1748\n"
          ]
        },
        {
          "metadata": {
            "tags": null
          },
          "name": "stderr",
          "output_type": "stream",
          "text": [
            "Epoch 56/300 [Training]: 100%|██████████| 362/362 [01:32<00:00,  3.92it/s, loss=0.1035]\n",
            "Epoch 56/300 [Validation]: 100%|██████████| 21/21 [00:04<00:00,  4.70it/s, loss=0.2397]\n"
          ]
        },
        {
          "metadata": {
            "tags": null
          },
          "name": "stdout",
          "output_type": "stream",
          "text": [
            "Epoch [56/300], Train Loss: 0.1726, Valid Loss: 0.1748\n"
          ]
        },
        {
          "metadata": {
            "tags": null
          },
          "name": "stderr",
          "output_type": "stream",
          "text": [
            "Epoch 57/300 [Training]: 100%|██████████| 362/362 [01:30<00:00,  3.99it/s, loss=0.1872]\n",
            "Epoch 57/300 [Validation]: 100%|██████████| 21/21 [00:04<00:00,  4.85it/s, loss=0.2397]\n"
          ]
        },
        {
          "metadata": {
            "tags": null
          },
          "name": "stdout",
          "output_type": "stream",
          "text": [
            "Epoch [57/300], Train Loss: 0.1726, Valid Loss: 0.1748\n"
          ]
        },
        {
          "metadata": {
            "tags": null
          },
          "name": "stderr",
          "output_type": "stream",
          "text": [
            "Epoch 58/300 [Training]: 100%|██████████| 362/362 [01:31<00:00,  3.97it/s, loss=0.1882]\n",
            "Epoch 58/300 [Validation]: 100%|██████████| 21/21 [00:04<00:00,  4.92it/s, loss=0.2397]\n"
          ]
        },
        {
          "metadata": {
            "tags": null
          },
          "name": "stdout",
          "output_type": "stream",
          "text": [
            "Epoch [58/300], Train Loss: 0.1725, Valid Loss: 0.1748\n"
          ]
        },
        {
          "metadata": {
            "tags": null
          },
          "name": "stderr",
          "output_type": "stream",
          "text": [
            "Epoch 59/300 [Training]: 100%|██████████| 362/362 [01:30<00:00,  3.99it/s, loss=0.1435]\n",
            "Epoch 59/300 [Validation]: 100%|██████████| 21/21 [00:04<00:00,  4.90it/s, loss=0.2398]\n"
          ]
        },
        {
          "metadata": {
            "tags": null
          },
          "name": "stdout",
          "output_type": "stream",
          "text": [
            "Epoch [59/300], Train Loss: 0.1725, Valid Loss: 0.1749\n"
          ]
        },
        {
          "metadata": {
            "tags": null
          },
          "name": "stderr",
          "output_type": "stream",
          "text": [
            "Epoch 60/300 [Training]: 100%|██████████| 362/362 [01:29<00:00,  4.03it/s, loss=0.1754]\n",
            "Epoch 60/300 [Validation]: 100%|██████████| 21/21 [00:04<00:00,  5.23it/s, loss=0.2396]\n"
          ]
        },
        {
          "metadata": {
            "tags": null
          },
          "name": "stdout",
          "output_type": "stream",
          "text": [
            "Epoch [60/300], Train Loss: 0.1725, Valid Loss: 0.1747\n"
          ]
        },
        {
          "metadata": {
            "tags": null
          },
          "name": "stderr",
          "output_type": "stream",
          "text": [
            "Epoch 61/300 [Training]: 100%|██████████| 362/362 [01:31<00:00,  3.97it/s, loss=0.1707]\n",
            "Epoch 61/300 [Validation]: 100%|██████████| 21/21 [00:04<00:00,  4.91it/s, loss=0.2398]\n"
          ]
        },
        {
          "metadata": {
            "tags": null
          },
          "name": "stdout",
          "output_type": "stream",
          "text": [
            "Epoch [61/300], Train Loss: 0.1725, Valid Loss: 0.1748\n"
          ]
        },
        {
          "metadata": {
            "tags": null
          },
          "name": "stderr",
          "output_type": "stream",
          "text": [
            "Epoch 62/300 [Training]: 100%|██████████| 362/362 [01:30<00:00,  4.01it/s, loss=0.2079]\n",
            "Epoch 62/300 [Validation]: 100%|██████████| 21/21 [00:03<00:00,  5.74it/s, loss=0.2398]\n"
          ]
        },
        {
          "metadata": {
            "tags": null
          },
          "name": "stdout",
          "output_type": "stream",
          "text": [
            "Epoch [62/300], Train Loss: 0.1725, Valid Loss: 0.1749\n"
          ]
        },
        {
          "metadata": {
            "tags": null
          },
          "name": "stderr",
          "output_type": "stream",
          "text": [
            "Epoch 63/300 [Training]: 100%|██████████| 362/362 [01:31<00:00,  3.95it/s, loss=0.1706]\n",
            "Epoch 63/300 [Validation]: 100%|██████████| 21/21 [00:03<00:00,  5.85it/s, loss=0.2397]\n"
          ]
        },
        {
          "metadata": {
            "tags": null
          },
          "name": "stdout",
          "output_type": "stream",
          "text": [
            "Epoch [63/300], Train Loss: 0.1724, Valid Loss: 0.1748\n"
          ]
        },
        {
          "metadata": {
            "tags": null
          },
          "name": "stderr",
          "output_type": "stream",
          "text": [
            "Epoch 64/300 [Training]: 100%|██████████| 362/362 [01:31<00:00,  3.94it/s, loss=0.2070]\n",
            "Epoch 64/300 [Validation]: 100%|██████████| 21/21 [00:03<00:00,  5.43it/s, loss=0.2397]\n"
          ]
        },
        {
          "metadata": {
            "tags": null
          },
          "name": "stdout",
          "output_type": "stream",
          "text": [
            "Epoch [64/300], Train Loss: 0.1725, Valid Loss: 0.1748\n"
          ]
        },
        {
          "metadata": {
            "tags": null
          },
          "name": "stderr",
          "output_type": "stream",
          "text": [
            "Epoch 65/300 [Training]: 100%|██████████| 362/362 [01:31<00:00,  3.94it/s, loss=0.1914]\n",
            "Epoch 65/300 [Validation]: 100%|██████████| 21/21 [00:04<00:00,  4.99it/s, loss=0.2396]\n"
          ]
        },
        {
          "metadata": {
            "tags": null
          },
          "name": "stdout",
          "output_type": "stream",
          "text": [
            "Epoch [65/300], Train Loss: 0.1725, Valid Loss: 0.1747\n"
          ]
        },
        {
          "metadata": {
            "tags": null
          },
          "name": "stderr",
          "output_type": "stream",
          "text": [
            "Epoch 66/300 [Training]: 100%|██████████| 362/362 [01:31<00:00,  3.95it/s, loss=0.1614]\n",
            "Epoch 66/300 [Validation]: 100%|██████████| 21/21 [00:04<00:00,  4.84it/s, loss=0.2395]\n"
          ]
        },
        {
          "metadata": {
            "tags": null
          },
          "name": "stdout",
          "output_type": "stream",
          "text": [
            "Epoch [66/300], Train Loss: 0.1724, Valid Loss: 0.1746\n"
          ]
        },
        {
          "metadata": {
            "tags": null
          },
          "name": "stderr",
          "output_type": "stream",
          "text": [
            "Epoch 67/300 [Training]: 100%|██████████| 362/362 [01:31<00:00,  3.95it/s, loss=0.2177]\n",
            "Epoch 67/300 [Validation]: 100%|██████████| 21/21 [00:04<00:00,  4.82it/s, loss=0.2397]\n"
          ]
        },
        {
          "metadata": {
            "tags": null
          },
          "name": "stdout",
          "output_type": "stream",
          "text": [
            "Epoch [67/300], Train Loss: 0.1724, Valid Loss: 0.1747\n"
          ]
        },
        {
          "metadata": {
            "tags": null
          },
          "name": "stderr",
          "output_type": "stream",
          "text": [
            "Epoch 68/300 [Training]: 100%|██████████| 362/362 [01:31<00:00,  3.96it/s, loss=0.2691]\n",
            "Epoch 68/300 [Validation]: 100%|██████████| 21/21 [00:04<00:00,  4.82it/s, loss=0.2396]\n"
          ]
        },
        {
          "metadata": {
            "tags": null
          },
          "name": "stdout",
          "output_type": "stream",
          "text": [
            "Epoch [68/300], Train Loss: 0.1725, Valid Loss: 0.1747\n"
          ]
        },
        {
          "metadata": {
            "tags": null
          },
          "name": "stderr",
          "output_type": "stream",
          "text": [
            "Epoch 69/300 [Training]: 100%|██████████| 362/362 [01:30<00:00,  4.00it/s, loss=0.1714]\n",
            "Epoch 69/300 [Validation]: 100%|██████████| 21/21 [00:04<00:00,  4.87it/s, loss=0.2397]\n"
          ]
        },
        {
          "metadata": {
            "tags": null
          },
          "name": "stdout",
          "output_type": "stream",
          "text": [
            "Epoch [69/300], Train Loss: 0.1724, Valid Loss: 0.1747\n"
          ]
        },
        {
          "metadata": {
            "tags": null
          },
          "name": "stderr",
          "output_type": "stream",
          "text": [
            "Epoch 70/300 [Training]: 100%|██████████| 362/362 [01:31<00:00,  3.97it/s, loss=0.1571]\n",
            "Epoch 70/300 [Validation]: 100%|██████████| 21/21 [00:04<00:00,  4.80it/s, loss=0.2396]\n"
          ]
        },
        {
          "metadata": {
            "tags": null
          },
          "name": "stdout",
          "output_type": "stream",
          "text": [
            "Epoch [70/300], Train Loss: 0.1723, Valid Loss: 0.1747\n"
          ]
        },
        {
          "metadata": {
            "tags": null
          },
          "name": "stderr",
          "output_type": "stream",
          "text": [
            "Epoch 71/300 [Training]: 100%|██████████| 362/362 [01:31<00:00,  3.95it/s, loss=0.1773]\n",
            "Epoch 71/300 [Validation]: 100%|██████████| 21/21 [00:04<00:00,  4.76it/s, loss=0.2398]\n"
          ]
        },
        {
          "metadata": {
            "tags": null
          },
          "name": "stdout",
          "output_type": "stream",
          "text": [
            "Epoch [71/300], Train Loss: 0.1723, Valid Loss: 0.1748\n"
          ]
        },
        {
          "metadata": {
            "tags": null
          },
          "name": "stderr",
          "output_type": "stream",
          "text": [
            "Epoch 72/300 [Training]: 100%|██████████| 362/362 [01:31<00:00,  3.94it/s, loss=0.1389]\n",
            "Epoch 72/300 [Validation]: 100%|██████████| 21/21 [00:03<00:00,  5.41it/s, loss=0.2396]\n"
          ]
        },
        {
          "metadata": {
            "tags": null
          },
          "name": "stdout",
          "output_type": "stream",
          "text": [
            "Epoch [72/300], Train Loss: 0.1723, Valid Loss: 0.1748\n"
          ]
        },
        {
          "metadata": {
            "tags": null
          },
          "name": "stderr",
          "output_type": "stream",
          "text": [
            "Epoch 73/300 [Training]: 100%|██████████| 362/362 [01:31<00:00,  3.96it/s, loss=0.2568]\n",
            "Epoch 73/300 [Validation]: 100%|██████████| 21/21 [00:03<00:00,  5.68it/s, loss=0.2396]\n"
          ]
        },
        {
          "metadata": {
            "tags": null
          },
          "name": "stdout",
          "output_type": "stream",
          "text": [
            "Epoch [73/300], Train Loss: 0.1724, Valid Loss: 0.1747\n"
          ]
        },
        {
          "metadata": {
            "tags": null
          },
          "name": "stderr",
          "output_type": "stream",
          "text": [
            "Epoch 74/300 [Training]: 100%|██████████| 362/362 [01:31<00:00,  3.96it/s, loss=0.1366]\n",
            "Epoch 74/300 [Validation]: 100%|██████████| 21/21 [00:03<00:00,  5.90it/s, loss=0.2396]\n"
          ]
        },
        {
          "metadata": {
            "tags": null
          },
          "name": "stdout",
          "output_type": "stream",
          "text": [
            "Epoch [74/300], Train Loss: 0.1723, Valid Loss: 0.1747\n"
          ]
        },
        {
          "metadata": {
            "tags": null
          },
          "name": "stderr",
          "output_type": "stream",
          "text": [
            "Epoch 75/300 [Training]: 100%|██████████| 362/362 [01:30<00:00,  3.98it/s, loss=0.1354]\n",
            "Epoch 75/300 [Validation]: 100%|██████████| 21/21 [00:03<00:00,  5.46it/s, loss=0.2395]\n"
          ]
        },
        {
          "metadata": {
            "tags": null
          },
          "name": "stdout",
          "output_type": "stream",
          "text": [
            "Epoch [75/300], Train Loss: 0.1722, Valid Loss: 0.1747\n"
          ]
        },
        {
          "metadata": {
            "tags": null
          },
          "name": "stderr",
          "output_type": "stream",
          "text": [
            "Epoch 76/300 [Training]: 100%|██████████| 362/362 [01:30<00:00,  4.00it/s, loss=0.1915]\n",
            "Epoch 76/300 [Validation]: 100%|██████████| 21/21 [00:04<00:00,  5.09it/s, loss=0.2395]\n"
          ]
        },
        {
          "metadata": {
            "tags": null
          },
          "name": "stdout",
          "output_type": "stream",
          "text": [
            "Epoch [76/300], Train Loss: 0.1723, Valid Loss: 0.1746\n"
          ]
        },
        {
          "metadata": {
            "tags": null
          },
          "name": "stderr",
          "output_type": "stream",
          "text": [
            "Epoch 77/300 [Training]: 100%|██████████| 362/362 [01:31<00:00,  3.96it/s, loss=0.1993]\n",
            "Epoch 77/300 [Validation]: 100%|██████████| 21/21 [00:03<00:00,  5.40it/s, loss=0.2395]\n"
          ]
        },
        {
          "metadata": {
            "tags": null
          },
          "name": "stdout",
          "output_type": "stream",
          "text": [
            "Epoch [77/300], Train Loss: 0.1722, Valid Loss: 0.1746\n"
          ]
        },
        {
          "metadata": {
            "tags": null
          },
          "name": "stderr",
          "output_type": "stream",
          "text": [
            "Epoch 78/300 [Training]: 100%|██████████| 362/362 [01:31<00:00,  3.96it/s, loss=0.1836]\n",
            "Epoch 78/300 [Validation]: 100%|██████████| 21/21 [00:03<00:00,  5.48it/s, loss=0.2395]\n"
          ]
        },
        {
          "metadata": {
            "tags": null
          },
          "name": "stdout",
          "output_type": "stream",
          "text": [
            "Epoch [78/300], Train Loss: 0.1723, Valid Loss: 0.1746\n"
          ]
        },
        {
          "metadata": {
            "tags": null
          },
          "name": "stderr",
          "output_type": "stream",
          "text": [
            "Epoch 79/300 [Training]: 100%|██████████| 362/362 [01:31<00:00,  3.95it/s, loss=0.1345]\n",
            "Epoch 79/300 [Validation]: 100%|██████████| 21/21 [00:03<00:00,  5.68it/s, loss=0.2395]\n"
          ]
        },
        {
          "metadata": {
            "tags": null
          },
          "name": "stdout",
          "output_type": "stream",
          "text": [
            "Epoch [79/300], Train Loss: 0.1722, Valid Loss: 0.1746\n"
          ]
        },
        {
          "metadata": {
            "tags": null
          },
          "name": "stderr",
          "output_type": "stream",
          "text": [
            "Epoch 80/300 [Training]: 100%|██████████| 362/362 [01:30<00:00,  3.98it/s, loss=0.1907]\n",
            "Epoch 80/300 [Validation]: 100%|██████████| 21/21 [00:03<00:00,  5.53it/s, loss=0.2395]\n"
          ]
        },
        {
          "metadata": {
            "tags": null
          },
          "name": "stdout",
          "output_type": "stream",
          "text": [
            "Epoch [80/300], Train Loss: 0.1722, Valid Loss: 0.1747\n"
          ]
        },
        {
          "metadata": {
            "tags": null
          },
          "name": "stderr",
          "output_type": "stream",
          "text": [
            "Epoch 81/300 [Training]: 100%|██████████| 362/362 [01:32<00:00,  3.93it/s, loss=0.2385]\n",
            "Epoch 81/300 [Validation]: 100%|██████████| 21/21 [00:03<00:00,  5.67it/s, loss=0.2395]\n"
          ]
        },
        {
          "metadata": {
            "tags": null
          },
          "name": "stdout",
          "output_type": "stream",
          "text": [
            "Epoch [81/300], Train Loss: 0.1722, Valid Loss: 0.1746\n"
          ]
        },
        {
          "metadata": {
            "tags": null
          },
          "name": "stderr",
          "output_type": "stream",
          "text": [
            "Epoch 82/300 [Training]: 100%|██████████| 362/362 [01:30<00:00,  3.99it/s, loss=0.2147]\n",
            "Epoch 82/300 [Validation]: 100%|██████████| 21/21 [00:03<00:00,  5.58it/s, loss=0.2395]\n"
          ]
        },
        {
          "metadata": {
            "tags": null
          },
          "name": "stdout",
          "output_type": "stream",
          "text": [
            "Epoch [82/300], Train Loss: 0.1722, Valid Loss: 0.1746\n"
          ]
        },
        {
          "metadata": {
            "tags": null
          },
          "name": "stderr",
          "output_type": "stream",
          "text": [
            "Epoch 83/300 [Training]: 100%|██████████| 362/362 [01:31<00:00,  3.97it/s, loss=0.1448]\n",
            "Epoch 83/300 [Validation]: 100%|██████████| 21/21 [00:03<00:00,  5.77it/s, loss=0.2395]\n"
          ]
        },
        {
          "metadata": {
            "tags": null
          },
          "name": "stdout",
          "output_type": "stream",
          "text": [
            "Epoch [83/300], Train Loss: 0.1721, Valid Loss: 0.1747\n"
          ]
        },
        {
          "metadata": {
            "tags": null
          },
          "name": "stderr",
          "output_type": "stream",
          "text": [
            "Epoch 84/300 [Training]: 100%|██████████| 362/362 [01:29<00:00,  4.05it/s, loss=0.1576]\n",
            "Epoch 84/300 [Validation]: 100%|██████████| 21/21 [00:04<00:00,  4.88it/s, loss=0.2394]\n"
          ]
        },
        {
          "metadata": {
            "tags": null
          },
          "name": "stdout",
          "output_type": "stream",
          "text": [
            "Epoch [84/300], Train Loss: 0.1722, Valid Loss: 0.1746\n"
          ]
        },
        {
          "metadata": {
            "tags": null
          },
          "name": "stderr",
          "output_type": "stream",
          "text": [
            "Epoch 85/300 [Training]: 100%|██████████| 362/362 [01:29<00:00,  4.05it/s, loss=0.1103]\n",
            "Epoch 85/300 [Validation]: 100%|██████████| 21/21 [00:04<00:00,  5.05it/s, loss=0.2395]\n"
          ]
        },
        {
          "metadata": {
            "tags": null
          },
          "name": "stdout",
          "output_type": "stream",
          "text": [
            "Epoch [85/300], Train Loss: 0.1721, Valid Loss: 0.1747\n"
          ]
        },
        {
          "metadata": {
            "tags": null
          },
          "name": "stderr",
          "output_type": "stream",
          "text": [
            "Epoch 86/300 [Training]: 100%|██████████| 362/362 [01:29<00:00,  4.02it/s, loss=0.1543]\n",
            "Epoch 86/300 [Validation]: 100%|██████████| 21/21 [00:04<00:00,  5.13it/s, loss=0.2396]\n"
          ]
        },
        {
          "metadata": {
            "tags": null
          },
          "name": "stdout",
          "output_type": "stream",
          "text": [
            "Epoch [86/300], Train Loss: 0.1722, Valid Loss: 0.1747\n"
          ]
        },
        {
          "metadata": {
            "tags": null
          },
          "name": "stderr",
          "output_type": "stream",
          "text": [
            "Epoch 87/300 [Training]: 100%|██████████| 362/362 [01:29<00:00,  4.03it/s, loss=0.2436]\n",
            "Epoch 87/300 [Validation]: 100%|██████████| 21/21 [00:04<00:00,  5.02it/s, loss=0.2394]\n"
          ]
        },
        {
          "metadata": {
            "tags": null
          },
          "name": "stdout",
          "output_type": "stream",
          "text": [
            "Epoch [87/300], Train Loss: 0.1722, Valid Loss: 0.1746\n"
          ]
        },
        {
          "metadata": {
            "tags": null
          },
          "name": "stderr",
          "output_type": "stream",
          "text": [
            "Epoch 88/300 [Training]: 100%|██████████| 362/362 [01:30<00:00,  4.00it/s, loss=0.1703]\n",
            "Epoch 88/300 [Validation]: 100%|██████████| 21/21 [00:04<00:00,  4.98it/s, loss=0.2395]\n"
          ]
        },
        {
          "metadata": {
            "tags": null
          },
          "name": "stdout",
          "output_type": "stream",
          "text": [
            "Epoch [88/300], Train Loss: 0.1721, Valid Loss: 0.1746\n"
          ]
        },
        {
          "metadata": {
            "tags": null
          },
          "name": "stderr",
          "output_type": "stream",
          "text": [
            "Epoch 89/300 [Training]: 100%|██████████| 362/362 [01:29<00:00,  4.03it/s, loss=0.2220]\n",
            "Epoch 89/300 [Validation]: 100%|██████████| 21/21 [00:03<00:00,  5.59it/s, loss=0.2395]\n"
          ]
        },
        {
          "metadata": {
            "tags": null
          },
          "name": "stdout",
          "output_type": "stream",
          "text": [
            "Epoch [89/300], Train Loss: 0.1721, Valid Loss: 0.1747\n"
          ]
        },
        {
          "metadata": {
            "tags": null
          },
          "name": "stderr",
          "output_type": "stream",
          "text": [
            "Epoch 90/300 [Training]: 100%|██████████| 362/362 [01:30<00:00,  3.99it/s, loss=0.1762]\n",
            "Epoch 90/300 [Validation]: 100%|██████████| 21/21 [00:03<00:00,  5.66it/s, loss=0.2394]\n"
          ]
        },
        {
          "metadata": {
            "tags": null
          },
          "name": "stdout",
          "output_type": "stream",
          "text": [
            "Epoch [90/300], Train Loss: 0.1722, Valid Loss: 0.1746\n"
          ]
        },
        {
          "metadata": {
            "tags": null
          },
          "name": "stderr",
          "output_type": "stream",
          "text": [
            "Epoch 91/300 [Training]: 100%|██████████| 362/362 [01:30<00:00,  4.01it/s, loss=0.2239]\n",
            "Epoch 91/300 [Validation]: 100%|██████████| 21/21 [00:03<00:00,  5.90it/s, loss=0.2394]\n"
          ]
        },
        {
          "metadata": {
            "tags": null
          },
          "name": "stdout",
          "output_type": "stream",
          "text": [
            "Epoch [91/300], Train Loss: 0.1721, Valid Loss: 0.1746\n"
          ]
        },
        {
          "metadata": {
            "tags": null
          },
          "name": "stderr",
          "output_type": "stream",
          "text": [
            "Epoch 92/300 [Training]: 100%|██████████| 362/362 [01:29<00:00,  4.04it/s, loss=0.2311]\n",
            "Epoch 92/300 [Validation]: 100%|██████████| 21/21 [00:03<00:00,  5.66it/s, loss=0.2394]\n"
          ]
        },
        {
          "metadata": {
            "tags": null
          },
          "name": "stdout",
          "output_type": "stream",
          "text": [
            "Epoch [92/300], Train Loss: 0.1722, Valid Loss: 0.1746\n"
          ]
        },
        {
          "metadata": {
            "tags": null
          },
          "name": "stderr",
          "output_type": "stream",
          "text": [
            "Epoch 93/300 [Training]: 100%|██████████| 362/362 [01:29<00:00,  4.04it/s, loss=0.1807]\n",
            "Epoch 93/300 [Validation]: 100%|██████████| 21/21 [00:03<00:00,  6.04it/s, loss=0.2394]\n"
          ]
        },
        {
          "metadata": {
            "tags": null
          },
          "name": "stdout",
          "output_type": "stream",
          "text": [
            "Epoch [93/300], Train Loss: 0.1721, Valid Loss: 0.1746\n"
          ]
        },
        {
          "metadata": {
            "tags": null
          },
          "name": "stderr",
          "output_type": "stream",
          "text": [
            "Epoch 94/300 [Training]: 100%|██████████| 362/362 [01:30<00:00,  4.01it/s, loss=0.1557]\n",
            "Epoch 94/300 [Validation]: 100%|██████████| 21/21 [00:03<00:00,  5.77it/s, loss=0.2396]\n"
          ]
        },
        {
          "metadata": {
            "tags": null
          },
          "name": "stdout",
          "output_type": "stream",
          "text": [
            "Epoch [94/300], Train Loss: 0.1721, Valid Loss: 0.1747\n"
          ]
        },
        {
          "metadata": {
            "tags": null
          },
          "name": "stderr",
          "output_type": "stream",
          "text": [
            "Epoch 95/300 [Training]: 100%|██████████| 362/362 [01:30<00:00,  4.00it/s, loss=0.1680]\n",
            "Epoch 95/300 [Validation]: 100%|██████████| 21/21 [00:03<00:00,  5.68it/s, loss=0.2394]\n"
          ]
        },
        {
          "metadata": {
            "tags": null
          },
          "name": "stdout",
          "output_type": "stream",
          "text": [
            "Epoch [95/300], Train Loss: 0.1721, Valid Loss: 0.1746\n"
          ]
        },
        {
          "metadata": {
            "tags": null
          },
          "name": "stderr",
          "output_type": "stream",
          "text": [
            "Epoch 96/300 [Training]: 100%|██████████| 362/362 [01:31<00:00,  3.96it/s, loss=0.2145]\n",
            "Epoch 96/300 [Validation]: 100%|██████████| 21/21 [00:03<00:00,  5.57it/s, loss=0.2395]\n"
          ]
        },
        {
          "metadata": {
            "tags": null
          },
          "name": "stdout",
          "output_type": "stream",
          "text": [
            "Epoch [96/300], Train Loss: 0.1721, Valid Loss: 0.1747\n"
          ]
        },
        {
          "metadata": {
            "tags": null
          },
          "name": "stderr",
          "output_type": "stream",
          "text": [
            "Epoch 97/300 [Training]: 100%|██████████| 362/362 [01:31<00:00,  3.94it/s, loss=0.2053]\n",
            "Epoch 97/300 [Validation]: 100%|██████████| 21/21 [00:03<00:00,  5.61it/s, loss=0.2394]\n"
          ]
        },
        {
          "metadata": {
            "tags": null
          },
          "name": "stdout",
          "output_type": "stream",
          "text": [
            "Epoch [97/300], Train Loss: 0.1721, Valid Loss: 0.1746\n"
          ]
        },
        {
          "metadata": {
            "tags": null
          },
          "name": "stderr",
          "output_type": "stream",
          "text": [
            "Epoch 98/300 [Training]: 100%|██████████| 362/362 [01:31<00:00,  3.96it/s, loss=0.1999]\n",
            "Epoch 98/300 [Validation]: 100%|██████████| 21/21 [00:03<00:00,  5.77it/s, loss=0.2394]\n"
          ]
        },
        {
          "metadata": {
            "tags": null
          },
          "name": "stdout",
          "output_type": "stream",
          "text": [
            "Epoch [98/300], Train Loss: 0.1722, Valid Loss: 0.1746\n"
          ]
        },
        {
          "metadata": {
            "tags": null
          },
          "name": "stderr",
          "output_type": "stream",
          "text": [
            "Epoch 99/300 [Training]: 100%|██████████| 362/362 [01:31<00:00,  3.94it/s, loss=0.1337]\n",
            "Epoch 99/300 [Validation]: 100%|██████████| 21/21 [00:03<00:00,  5.88it/s, loss=0.2394]\n"
          ]
        },
        {
          "metadata": {
            "tags": null
          },
          "name": "stdout",
          "output_type": "stream",
          "text": [
            "Epoch [99/300], Train Loss: 0.1720, Valid Loss: 0.1746\n"
          ]
        },
        {
          "metadata": {
            "tags": null
          },
          "name": "stderr",
          "output_type": "stream",
          "text": [
            "Epoch 100/300 [Training]: 100%|██████████| 362/362 [01:32<00:00,  3.93it/s, loss=0.1946]\n",
            "Epoch 100/300 [Validation]: 100%|██████████| 21/21 [00:03<00:00,  5.74it/s, loss=0.2394]\n"
          ]
        },
        {
          "metadata": {
            "tags": null
          },
          "name": "stdout",
          "output_type": "stream",
          "text": [
            "Epoch [100/300], Train Loss: 0.1720, Valid Loss: 0.1745\n"
          ]
        },
        {
          "metadata": {
            "tags": null
          },
          "name": "stderr",
          "output_type": "stream",
          "text": [
            "Epoch 101/300 [Training]: 100%|██████████| 362/362 [01:32<00:00,  3.91it/s, loss=0.1696]\n",
            "Epoch 101/300 [Validation]: 100%|██████████| 21/21 [00:03<00:00,  5.85it/s, loss=0.2394]\n"
          ]
        },
        {
          "metadata": {
            "tags": null
          },
          "name": "stdout",
          "output_type": "stream",
          "text": [
            "Epoch [101/300], Train Loss: 0.1720, Valid Loss: 0.1746\n"
          ]
        },
        {
          "metadata": {
            "tags": null
          },
          "name": "stderr",
          "output_type": "stream",
          "text": [
            "Epoch 102/300 [Training]: 100%|██████████| 362/362 [01:31<00:00,  3.98it/s, loss=0.2071]\n",
            "Epoch 102/300 [Validation]: 100%|██████████| 21/21 [00:03<00:00,  5.71it/s, loss=0.2394]\n"
          ]
        },
        {
          "metadata": {
            "tags": null
          },
          "name": "stdout",
          "output_type": "stream",
          "text": [
            "Epoch [102/300], Train Loss: 0.1720, Valid Loss: 0.1746\n"
          ]
        },
        {
          "metadata": {
            "tags": null
          },
          "name": "stderr",
          "output_type": "stream",
          "text": [
            "Epoch 103/300 [Training]: 100%|██████████| 362/362 [01:30<00:00,  4.00it/s, loss=0.1278]\n",
            "Epoch 103/300 [Validation]: 100%|██████████| 21/21 [00:03<00:00,  5.84it/s, loss=0.2394]\n"
          ]
        },
        {
          "metadata": {
            "tags": null
          },
          "name": "stdout",
          "output_type": "stream",
          "text": [
            "Epoch [103/300], Train Loss: 0.1720, Valid Loss: 0.1745\n"
          ]
        },
        {
          "metadata": {
            "tags": null
          },
          "name": "stderr",
          "output_type": "stream",
          "text": [
            "Epoch 104/300 [Training]: 100%|██████████| 362/362 [01:30<00:00,  3.98it/s, loss=0.1665]\n",
            "Epoch 104/300 [Validation]: 100%|██████████| 21/21 [00:03<00:00,  5.74it/s, loss=0.2394]\n"
          ]
        },
        {
          "metadata": {
            "tags": null
          },
          "name": "stdout",
          "output_type": "stream",
          "text": [
            "Epoch [104/300], Train Loss: 0.1720, Valid Loss: 0.1745\n"
          ]
        },
        {
          "metadata": {
            "tags": null
          },
          "name": "stderr",
          "output_type": "stream",
          "text": [
            "Epoch 105/300 [Training]: 100%|██████████| 362/362 [01:30<00:00,  3.98it/s, loss=0.2646]\n",
            "Epoch 105/300 [Validation]: 100%|██████████| 21/21 [00:03<00:00,  5.78it/s, loss=0.2395]\n"
          ]
        },
        {
          "metadata": {
            "tags": null
          },
          "name": "stdout",
          "output_type": "stream",
          "text": [
            "Epoch [105/300], Train Loss: 0.1721, Valid Loss: 0.1746\n"
          ]
        },
        {
          "metadata": {
            "tags": null
          },
          "name": "stderr",
          "output_type": "stream",
          "text": [
            "Epoch 106/300 [Training]: 100%|██████████| 362/362 [01:31<00:00,  3.96it/s, loss=0.1853]\n",
            "Epoch 106/300 [Validation]: 100%|██████████| 21/21 [00:03<00:00,  5.75it/s, loss=0.2393]\n"
          ]
        },
        {
          "metadata": {
            "tags": null
          },
          "name": "stdout",
          "output_type": "stream",
          "text": [
            "Epoch [106/300], Train Loss: 0.1720, Valid Loss: 0.1745\n"
          ]
        },
        {
          "metadata": {
            "tags": null
          },
          "name": "stderr",
          "output_type": "stream",
          "text": [
            "Epoch 107/300 [Training]: 100%|██████████| 362/362 [01:31<00:00,  3.95it/s, loss=0.2653]\n",
            "Epoch 107/300 [Validation]: 100%|██████████| 21/21 [00:04<00:00,  5.18it/s, loss=0.2394]\n"
          ]
        },
        {
          "metadata": {
            "tags": null
          },
          "name": "stdout",
          "output_type": "stream",
          "text": [
            "Epoch [107/300], Train Loss: 0.1721, Valid Loss: 0.1746\n"
          ]
        },
        {
          "metadata": {
            "tags": null
          },
          "name": "stderr",
          "output_type": "stream",
          "text": [
            "Epoch 108/300 [Training]: 100%|██████████| 362/362 [01:31<00:00,  3.96it/s, loss=0.1879]\n",
            "Epoch 108/300 [Validation]: 100%|██████████| 21/21 [00:03<00:00,  5.49it/s, loss=0.2394]\n"
          ]
        },
        {
          "metadata": {
            "tags": null
          },
          "name": "stdout",
          "output_type": "stream",
          "text": [
            "Epoch [108/300], Train Loss: 0.1720, Valid Loss: 0.1745\n"
          ]
        },
        {
          "metadata": {
            "tags": null
          },
          "name": "stderr",
          "output_type": "stream",
          "text": [
            "Epoch 109/300 [Training]: 100%|██████████| 362/362 [01:31<00:00,  3.95it/s, loss=0.1851]\n",
            "Epoch 109/300 [Validation]: 100%|██████████| 21/21 [00:03<00:00,  5.47it/s, loss=0.2394]\n"
          ]
        },
        {
          "metadata": {
            "tags": null
          },
          "name": "stdout",
          "output_type": "stream",
          "text": [
            "Epoch [109/300], Train Loss: 0.1720, Valid Loss: 0.1746\n"
          ]
        },
        {
          "metadata": {
            "tags": null
          },
          "name": "stderr",
          "output_type": "stream",
          "text": [
            "Epoch 110/300 [Training]: 100%|██████████| 362/362 [01:31<00:00,  3.97it/s, loss=0.1296]\n",
            "Epoch 110/300 [Validation]: 100%|██████████| 21/21 [00:03<00:00,  5.30it/s, loss=0.2395]\n"
          ]
        },
        {
          "metadata": {
            "tags": null
          },
          "name": "stdout",
          "output_type": "stream",
          "text": [
            "Epoch [110/300], Train Loss: 0.1719, Valid Loss: 0.1747\n"
          ]
        },
        {
          "metadata": {
            "tags": null
          },
          "name": "stderr",
          "output_type": "stream",
          "text": [
            "Epoch 111/300 [Training]: 100%|██████████| 362/362 [01:31<00:00,  3.95it/s, loss=0.1537]\n",
            "Epoch 111/300 [Validation]: 100%|██████████| 21/21 [00:03<00:00,  5.59it/s, loss=0.2393]\n"
          ]
        },
        {
          "metadata": {
            "tags": null
          },
          "name": "stdout",
          "output_type": "stream",
          "text": [
            "Epoch [111/300], Train Loss: 0.1720, Valid Loss: 0.1745\n"
          ]
        },
        {
          "metadata": {
            "tags": null
          },
          "name": "stderr",
          "output_type": "stream",
          "text": [
            "Epoch 112/300 [Training]: 100%|██████████| 362/362 [01:30<00:00,  3.99it/s, loss=0.1396]\n",
            "Epoch 112/300 [Validation]: 100%|██████████| 21/21 [00:04<00:00,  5.12it/s, loss=0.2394]\n"
          ]
        },
        {
          "metadata": {
            "tags": null
          },
          "name": "stdout",
          "output_type": "stream",
          "text": [
            "Epoch [112/300], Train Loss: 0.1719, Valid Loss: 0.1746\n"
          ]
        },
        {
          "metadata": {
            "tags": null
          },
          "name": "stderr",
          "output_type": "stream",
          "text": [
            "Epoch 113/300 [Training]: 100%|██████████| 362/362 [01:31<00:00,  3.97it/s, loss=0.1469]\n",
            "Epoch 113/300 [Validation]: 100%|██████████| 21/21 [00:04<00:00,  5.18it/s, loss=0.2393]\n"
          ]
        },
        {
          "metadata": {
            "tags": null
          },
          "name": "stdout",
          "output_type": "stream",
          "text": [
            "Epoch [113/300], Train Loss: 0.1719, Valid Loss: 0.1745\n"
          ]
        },
        {
          "metadata": {
            "tags": null
          },
          "name": "stderr",
          "output_type": "stream",
          "text": [
            "Epoch 114/300 [Training]: 100%|██████████| 362/362 [01:31<00:00,  3.94it/s, loss=0.1454]\n",
            "Epoch 114/300 [Validation]: 100%|██████████| 21/21 [00:04<00:00,  5.14it/s, loss=0.2394]\n"
          ]
        },
        {
          "metadata": {
            "tags": null
          },
          "name": "stdout",
          "output_type": "stream",
          "text": [
            "Epoch [114/300], Train Loss: 0.1719, Valid Loss: 0.1746\n"
          ]
        },
        {
          "metadata": {
            "tags": null
          },
          "name": "stderr",
          "output_type": "stream",
          "text": [
            "Epoch 115/300 [Training]: 100%|██████████| 362/362 [01:31<00:00,  3.94it/s, loss=0.1447]\n",
            "Epoch 115/300 [Validation]: 100%|██████████| 21/21 [00:03<00:00,  5.65it/s, loss=0.2395]\n"
          ]
        },
        {
          "metadata": {
            "tags": null
          },
          "name": "stdout",
          "output_type": "stream",
          "text": [
            "Epoch [115/300], Train Loss: 0.1719, Valid Loss: 0.1747\n"
          ]
        },
        {
          "metadata": {
            "tags": null
          },
          "name": "stderr",
          "output_type": "stream",
          "text": [
            "Epoch 116/300 [Training]: 100%|██████████| 362/362 [01:32<00:00,  3.93it/s, loss=0.1947]\n",
            "Epoch 116/300 [Validation]: 100%|██████████| 21/21 [00:03<00:00,  5.80it/s, loss=0.2394]\n"
          ]
        },
        {
          "metadata": {
            "tags": null
          },
          "name": "stdout",
          "output_type": "stream",
          "text": [
            "Epoch [116/300], Train Loss: 0.1720, Valid Loss: 0.1746\n"
          ]
        },
        {
          "metadata": {
            "tags": null
          },
          "name": "stderr",
          "output_type": "stream",
          "text": [
            "Epoch 117/300 [Training]: 100%|██████████| 362/362 [01:31<00:00,  3.94it/s, loss=0.1885]\n",
            "Epoch 117/300 [Validation]: 100%|██████████| 21/21 [00:03<00:00,  5.79it/s, loss=0.2393]\n"
          ]
        },
        {
          "metadata": {
            "tags": null
          },
          "name": "stdout",
          "output_type": "stream",
          "text": [
            "Epoch [117/300], Train Loss: 0.1720, Valid Loss: 0.1745\n"
          ]
        },
        {
          "metadata": {
            "tags": null
          },
          "name": "stderr",
          "output_type": "stream",
          "text": [
            "Epoch 118/300 [Training]: 100%|██████████| 362/362 [01:31<00:00,  3.96it/s, loss=0.1469]\n",
            "Epoch 118/300 [Validation]: 100%|██████████| 21/21 [00:03<00:00,  5.57it/s, loss=0.2393]\n"
          ]
        },
        {
          "metadata": {
            "tags": null
          },
          "name": "stdout",
          "output_type": "stream",
          "text": [
            "Epoch [118/300], Train Loss: 0.1719, Valid Loss: 0.1745\n"
          ]
        },
        {
          "metadata": {
            "tags": null
          },
          "name": "stderr",
          "output_type": "stream",
          "text": [
            "Epoch 119/300 [Training]: 100%|██████████| 362/362 [01:31<00:00,  3.97it/s, loss=0.2029]\n",
            "Epoch 119/300 [Validation]: 100%|██████████| 21/21 [00:03<00:00,  5.33it/s, loss=0.2394]\n"
          ]
        },
        {
          "metadata": {
            "tags": null
          },
          "name": "stdout",
          "output_type": "stream",
          "text": [
            "Epoch [119/300], Train Loss: 0.1719, Valid Loss: 0.1745\n"
          ]
        },
        {
          "output_type": "stream",
          "name": "stderr",
          "text": [
            "Epoch 120/300 [Training]: 100%|██████████| 362/362 [01:32<00:00,  3.92it/s, loss=0.1911]\n",
            "Epoch 120/300 [Validation]: 100%|██████████| 21/21 [00:03<00:00,  5.42it/s, loss=0.2394]\n"
          ]
        },
        {
          "output_type": "stream",
          "name": "stdout",
          "text": [
            "Epoch [120/300], Train Loss: 0.1720, Valid Loss: 0.1746\n"
          ]
        },
        {
          "output_type": "stream",
          "name": "stderr",
          "text": [
            "Epoch 121/300 [Training]: 100%|██████████| 362/362 [01:33<00:00,  3.89it/s, loss=0.1586]\n",
            "Epoch 121/300 [Validation]: 100%|██████████| 21/21 [00:03<00:00,  5.76it/s, loss=0.2393]\n"
          ]
        },
        {
          "output_type": "stream",
          "name": "stdout",
          "text": [
            "Epoch [121/300], Train Loss: 0.1719, Valid Loss: 0.1745\n"
          ]
        },
        {
          "output_type": "stream",
          "name": "stderr",
          "text": [
            "Epoch 122/300 [Training]: 100%|██████████| 362/362 [01:32<00:00,  3.91it/s, loss=0.1260]\n",
            "Epoch 122/300 [Validation]: 100%|██████████| 21/21 [00:03<00:00,  5.77it/s, loss=0.2393]\n"
          ]
        },
        {
          "output_type": "stream",
          "name": "stdout",
          "text": [
            "Epoch [122/300], Train Loss: 0.1718, Valid Loss: 0.1745\n"
          ]
        },
        {
          "output_type": "stream",
          "name": "stderr",
          "text": [
            "Epoch 123/300 [Training]: 100%|██████████| 362/362 [01:31<00:00,  3.95it/s, loss=0.1441]\n",
            "Epoch 123/300 [Validation]: 100%|██████████| 21/21 [00:03<00:00,  5.79it/s, loss=0.2394]"
          ]
        },
        {
          "output_type": "stream",
          "name": "stdout",
          "text": [
            "Epoch [123/300], Train Loss: 0.1719, Valid Loss: 0.1746\n",
            "Early stopping triggered.\n"
          ]
        },
        {
          "output_type": "stream",
          "name": "stderr",
          "text": [
            "\n"
          ]
        }
      ]
    },
    {
      "cell_type": "code",
      "source": [
        "class BinaryClassifier(nn.Module):\n",
        "    def __init__(self):\n",
        "        super(BinaryClassifier, self).__init__()\n",
        "        self.encoder = model.encoder  # Use pretrained encoder\n",
        "        self.fc = nn.Sequential(\n",
        "            nn.Linear(256 * 8 * 8, 128),\n",
        "            nn.ReLU(),\n",
        "            nn.Linear(128, 2)  # Output: 2 classes (Normal, Abnormal)\n",
        "        )\n",
        "\n",
        "    def forward(self, x):\n",
        "        x = self.encoder(x)\n",
        "        x = torch.flatten(x, start_dim=1)\n",
        "        x = self.fc(x)\n",
        "        return x\n",
        "\n",
        "# Instantiate and Train Classifier\n",
        "classifier = BinaryClassifier()\n",
        "classifier.to(\"cuda\" if torch.cuda.is_available() else \"cpu\")\n"
      ],
      "metadata": {
        "colab": {
          "base_uri": "https://localhost:8080/"
        },
        "id": "L0Cm57WTo7en",
        "outputId": "3f6a126b-4f5c-45c4-c09d-eaa56d1336e6"
      },
      "execution_count": 10,
      "outputs": [
        {
          "output_type": "execute_result",
          "data": {
            "text/plain": [
              "BinaryClassifier(\n",
              "  (encoder): Sequential(\n",
              "    (0): ResidualBlock(\n",
              "      (conv1): Conv2d(3, 32, kernel_size=(7, 7), stride=(2, 2), padding=(3, 3))\n",
              "      (bn1): BatchNorm2d(32, eps=1e-05, momentum=0.1, affine=True, track_running_stats=True)\n",
              "      (relu): LeakyReLU(negative_slope=0.2)\n",
              "      (conv2): Conv2d(32, 32, kernel_size=(7, 7), stride=(1, 1), padding=(3, 3))\n",
              "      (bn2): BatchNorm2d(32, eps=1e-05, momentum=0.1, affine=True, track_running_stats=True)\n",
              "      (skip_connection): Conv2d(3, 32, kernel_size=(1, 1), stride=(2, 2))\n",
              "    )\n",
              "    (1): ResidualBlock(\n",
              "      (conv1): Conv2d(32, 64, kernel_size=(7, 7), stride=(2, 2), padding=(3, 3))\n",
              "      (bn1): BatchNorm2d(64, eps=1e-05, momentum=0.1, affine=True, track_running_stats=True)\n",
              "      (relu): LeakyReLU(negative_slope=0.2)\n",
              "      (conv2): Conv2d(64, 64, kernel_size=(7, 7), stride=(1, 1), padding=(3, 3))\n",
              "      (bn2): BatchNorm2d(64, eps=1e-05, momentum=0.1, affine=True, track_running_stats=True)\n",
              "      (skip_connection): Conv2d(32, 64, kernel_size=(1, 1), stride=(2, 2))\n",
              "    )\n",
              "    (2): ResidualBlock(\n",
              "      (conv1): Conv2d(64, 128, kernel_size=(7, 7), stride=(2, 2), padding=(3, 3))\n",
              "      (bn1): BatchNorm2d(128, eps=1e-05, momentum=0.1, affine=True, track_running_stats=True)\n",
              "      (relu): LeakyReLU(negative_slope=0.2)\n",
              "      (conv2): Conv2d(128, 128, kernel_size=(7, 7), stride=(1, 1), padding=(3, 3))\n",
              "      (bn2): BatchNorm2d(128, eps=1e-05, momentum=0.1, affine=True, track_running_stats=True)\n",
              "      (skip_connection): Conv2d(64, 128, kernel_size=(1, 1), stride=(2, 2))\n",
              "    )\n",
              "    (3): ResidualBlock(\n",
              "      (conv1): Conv2d(128, 256, kernel_size=(7, 7), stride=(2, 2), padding=(3, 3))\n",
              "      (bn1): BatchNorm2d(256, eps=1e-05, momentum=0.1, affine=True, track_running_stats=True)\n",
              "      (relu): LeakyReLU(negative_slope=0.2)\n",
              "      (conv2): Conv2d(256, 256, kernel_size=(7, 7), stride=(1, 1), padding=(3, 3))\n",
              "      (bn2): BatchNorm2d(256, eps=1e-05, momentum=0.1, affine=True, track_running_stats=True)\n",
              "      (skip_connection): Conv2d(128, 256, kernel_size=(1, 1), stride=(2, 2))\n",
              "    )\n",
              "  )\n",
              "  (fc): Sequential(\n",
              "    (0): Linear(in_features=16384, out_features=128, bias=True)\n",
              "    (1): ReLU()\n",
              "    (2): Linear(in_features=128, out_features=2, bias=True)\n",
              "  )\n",
              ")"
            ]
          },
          "metadata": {},
          "execution_count": 10
        }
      ]
    },
    {
      "cell_type": "code",
      "source": [
        "import torch\n",
        "import seaborn as sns\n",
        "import matplotlib.pyplot as plt\n",
        "from sklearn.metrics import confusion_matrix\n",
        "\n",
        "def evaluate_model(model, test_loader):\n",
        "    model.eval()\n",
        "    correct, total = 0, 0\n",
        "    all_preds, all_labels = [], []\n",
        "\n",
        "    with torch.no_grad():\n",
        "        for images, labels in test_loader:\n",
        "            images, labels = images.to(\"cuda\"), labels.to(\"cuda\")\n",
        "            outputs = model(images)\n",
        "            _, predicted = torch.max(outputs, 1)\n",
        "\n",
        "            total += labels.size(0)\n",
        "            correct += (predicted == labels).sum().item()\n",
        "\n",
        "            all_preds.extend(predicted.cpu().numpy())\n",
        "            all_labels.extend(labels.cpu().numpy())\n",
        "\n",
        "    accuracy = 100 * correct / total\n",
        "    print(f\"Test Accuracy: {accuracy:.2f}%\")\n",
        "\n",
        "    # Compute confusion matrix\n",
        "    cm = confusion_matrix(all_labels, all_preds)\n",
        "\n",
        "    # Plot confusion matrix\n",
        "    plt.figure(figsize=(8, 6))\n",
        "    sns.heatmap(cm, annot=True, fmt='d', cmap='Blues', xticklabels=True, yticklabels=True)\n",
        "    plt.xlabel('Predicted Label')\n",
        "    plt.ylabel('True Label')\n",
        "    plt.title('Confusion Matrix')\n",
        "    plt.show()\n",
        "\n",
        "evaluate_model(classifier, test_loader)"
      ],
      "metadata": {
        "colab": {
          "base_uri": "https://localhost:8080/",
          "height": 581
        },
        "id": "UC6zT-zio8-X",
        "outputId": "b09975a6-d485-4431-c9c0-6a1cb8a7ab17"
      },
      "execution_count": 11,
      "outputs": [
        {
          "output_type": "stream",
          "name": "stdout",
          "text": [
            "Test Accuracy: 32.80%\n"
          ]
        },
        {
          "output_type": "display_data",
          "data": {
            "text/plain": [
              "<Figure size 800x600 with 2 Axes>"
            ],
            "image/png": "[encoded data removed]"
          },
          "metadata": {}
        }
      ]
    },
    {
      "cell_type": "code",
      "source": [
        "torch.save(model.state_dict(), \"autoencoder.pth\")\n",
        "torch.save(classifier.state_dict(), \"classifier.pth\")"
      ],
      "metadata": {
        "id": "TwOYl94ao-Pw"
      },
      "execution_count": null,
      "outputs": []
    }
  ]
}